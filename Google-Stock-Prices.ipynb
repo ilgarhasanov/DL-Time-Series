{
  "nbformat": 4,
  "nbformat_minor": 0,
  "metadata": {
    "colab": {
      "name": "HW -LSTM Week 12.ipynb",
      "provenance": []
    },
    "kernelspec": {
      "name": "python3",
      "display_name": "Python 3"
    }
  },
  "cells": [
    {
      "cell_type": "code",
      "metadata": {
        "id": "UqptW3IwVj5I"
      },
      "source": [
        "import os\n",
        "import sys\n",
        "import math\n",
        "import random\n",
        "import warnings\n",
        "\n",
        "import pandas as pd\n",
        "import numpy as np\n",
        "\n",
        "import matplotlib.pyplot as plt\n",
        "\n",
        "from sklearn.preprocessing import MinMaxScaler, StandardScaler\n",
        "from sklearn.metrics import mean_squared_error\n",
        "\n",
        "from tensorflow.keras.models import Sequential\n",
        "from tensorflow.keras.layers import Dense , BatchNormalization , Dropout , Activation\n",
        "from tensorflow.keras.layers import LSTM , GRU\n",
        "from tensorflow.keras.optimizers import Adam , SGD , RMSprop\n",
        "from tensorflow.keras.callbacks import ReduceLROnPlateau , ModelCheckpoint\n",
        "from tensorflow.keras.models import load_model\n",
        "\n",
        "warnings.filterwarnings('ignore')\n",
        "\n",
        "pd.options.display.max_columns = 1000\n",
        "pd.options.display.max_rows = 10000\n",
        "pd.options.display.max_colwidth = -1\n",
        "\n",
        "def seed_everything(seed=0):\n",
        "    random.seed(seed)\n",
        "    os.environ['PYTHONHASHSEED'] = str(seed)\n",
        "    np.random.seed(seed)\n",
        "\n",
        "RANDOM_STATE = 313\n",
        "seed_everything(seed=RANDOM_STATE)"
      ],
      "execution_count": 1,
      "outputs": []
    },
    {
      "cell_type": "code",
      "metadata": {
        "colab": {
          "resources": {
            "http://localhost:8080/nbextensions/google.colab/files.js": {
              "data": "Ly8gQ29weXJpZ2h0IDIwMTcgR29vZ2xlIExMQwovLwovLyBMaWNlbnNlZCB1bmRlciB0aGUgQXBhY2hlIExpY2Vuc2UsIFZlcnNpb24gMi4wICh0aGUgIkxpY2Vuc2UiKTsKLy8geW91IG1heSBub3QgdXNlIHRoaXMgZmlsZSBleGNlcHQgaW4gY29tcGxpYW5jZSB3aXRoIHRoZSBMaWNlbnNlLgovLyBZb3UgbWF5IG9idGFpbiBhIGNvcHkgb2YgdGhlIExpY2Vuc2UgYXQKLy8KLy8gICAgICBodHRwOi8vd3d3LmFwYWNoZS5vcmcvbGljZW5zZXMvTElDRU5TRS0yLjAKLy8KLy8gVW5sZXNzIHJlcXVpcmVkIGJ5IGFwcGxpY2FibGUgbGF3IG9yIGFncmVlZCB0byBpbiB3cml0aW5nLCBzb2Z0d2FyZQovLyBkaXN0cmlidXRlZCB1bmRlciB0aGUgTGljZW5zZSBpcyBkaXN0cmlidXRlZCBvbiBhbiAiQVMgSVMiIEJBU0lTLAovLyBXSVRIT1VUIFdBUlJBTlRJRVMgT1IgQ09ORElUSU9OUyBPRiBBTlkgS0lORCwgZWl0aGVyIGV4cHJlc3Mgb3IgaW1wbGllZC4KLy8gU2VlIHRoZSBMaWNlbnNlIGZvciB0aGUgc3BlY2lmaWMgbGFuZ3VhZ2UgZ292ZXJuaW5nIHBlcm1pc3Npb25zIGFuZAovLyBsaW1pdGF0aW9ucyB1bmRlciB0aGUgTGljZW5zZS4KCi8qKgogKiBAZmlsZW92ZXJ2aWV3IEhlbHBlcnMgZm9yIGdvb2dsZS5jb2xhYiBQeXRob24gbW9kdWxlLgogKi8KKGZ1bmN0aW9uKHNjb3BlKSB7CmZ1bmN0aW9uIHNwYW4odGV4dCwgc3R5bGVBdHRyaWJ1dGVzID0ge30pIHsKICBjb25zdCBlbGVtZW50ID0gZG9jdW1lbnQuY3JlYXRlRWxlbWVudCgnc3BhbicpOwogIGVsZW1lbnQudGV4dENvbnRlbnQgPSB0ZXh0OwogIGZvciAoY29uc3Qga2V5IG9mIE9iamVjdC5rZXlzKHN0eWxlQXR0cmlidXRlcykpIHsKICAgIGVsZW1lbnQuc3R5bGVba2V5XSA9IHN0eWxlQXR0cmlidXRlc1trZXldOwogIH0KICByZXR1cm4gZWxlbWVudDsKfQoKLy8gTWF4IG51bWJlciBvZiBieXRlcyB3aGljaCB3aWxsIGJlIHVwbG9hZGVkIGF0IGEgdGltZS4KY29uc3QgTUFYX1BBWUxPQURfU0laRSA9IDEwMCAqIDEwMjQ7CgpmdW5jdGlvbiBfdXBsb2FkRmlsZXMoaW5wdXRJZCwgb3V0cHV0SWQpIHsKICBjb25zdCBzdGVwcyA9IHVwbG9hZEZpbGVzU3RlcChpbnB1dElkLCBvdXRwdXRJZCk7CiAgY29uc3Qgb3V0cHV0RWxlbWVudCA9IGRvY3VtZW50LmdldEVsZW1lbnRCeUlkKG91dHB1dElkKTsKICAvLyBDYWNoZSBzdGVwcyBvbiB0aGUgb3V0cHV0RWxlbWVudCB0byBtYWtlIGl0IGF2YWlsYWJsZSBmb3IgdGhlIG5leHQgY2FsbAogIC8vIHRvIHVwbG9hZEZpbGVzQ29udGludWUgZnJvbSBQeXRob24uCiAgb3V0cHV0RWxlbWVudC5zdGVwcyA9IHN0ZXBzOwoKICByZXR1cm4gX3VwbG9hZEZpbGVzQ29udGludWUob3V0cHV0SWQpOwp9CgovLyBUaGlzIGlzIHJvdWdobHkgYW4gYXN5bmMgZ2VuZXJhdG9yIChub3Qgc3VwcG9ydGVkIGluIHRoZSBicm93c2VyIHlldCksCi8vIHdoZXJlIHRoZXJlIGFyZSBtdWx0aXBsZSBhc3luY2hyb25vdXMgc3RlcHMgYW5kIHRoZSBQeXRob24gc2lkZSBpcyBnb2luZwovLyB0byBwb2xsIGZvciBjb21wbGV0aW9uIG9mIGVhY2ggc3RlcC4KLy8gVGhpcyB1c2VzIGEgUHJvbWlzZSB0byBibG9jayB0aGUgcHl0aG9uIHNpZGUgb24gY29tcGxldGlvbiBvZiBlYWNoIHN0ZXAsCi8vIHRoZW4gcGFzc2VzIHRoZSByZXN1bHQgb2YgdGhlIHByZXZpb3VzIHN0ZXAgYXMgdGhlIGlucHV0IHRvIHRoZSBuZXh0IHN0ZXAuCmZ1bmN0aW9uIF91cGxvYWRGaWxlc0NvbnRpbnVlKG91dHB1dElkKSB7CiAgY29uc3Qgb3V0cHV0RWxlbWVudCA9IGRvY3VtZW50LmdldEVsZW1lbnRCeUlkKG91dHB1dElkKTsKICBjb25zdCBzdGVwcyA9IG91dHB1dEVsZW1lbnQuc3RlcHM7CgogIGNvbnN0IG5leHQgPSBzdGVwcy5uZXh0KG91dHB1dEVsZW1lbnQubGFzdFByb21pc2VWYWx1ZSk7CiAgcmV0dXJuIFByb21pc2UucmVzb2x2ZShuZXh0LnZhbHVlLnByb21pc2UpLnRoZW4oKHZhbHVlKSA9PiB7CiAgICAvLyBDYWNoZSB0aGUgbGFzdCBwcm9taXNlIHZhbHVlIHRvIG1ha2UgaXQgYXZhaWxhYmxlIHRvIHRoZSBuZXh0CiAgICAvLyBzdGVwIG9mIHRoZSBnZW5lcmF0b3IuCiAgICBvdXRwdXRFbGVtZW50Lmxhc3RQcm9taXNlVmFsdWUgPSB2YWx1ZTsKICAgIHJldHVybiBuZXh0LnZhbHVlLnJlc3BvbnNlOwogIH0pOwp9CgovKioKICogR2VuZXJhdG9yIGZ1bmN0aW9uIHdoaWNoIGlzIGNhbGxlZCBiZXR3ZWVuIGVhY2ggYXN5bmMgc3RlcCBvZiB0aGUgdXBsb2FkCiAqIHByb2Nlc3MuCiAqIEBwYXJhbSB7c3RyaW5nfSBpbnB1dElkIEVsZW1lbnQgSUQgb2YgdGhlIGlucHV0IGZpbGUgcGlja2VyIGVsZW1lbnQuCiAqIEBwYXJhbSB7c3RyaW5nfSBvdXRwdXRJZCBFbGVtZW50IElEIG9mIHRoZSBvdXRwdXQgZGlzcGxheS4KICogQHJldHVybiB7IUl0ZXJhYmxlPCFPYmplY3Q+fSBJdGVyYWJsZSBvZiBuZXh0IHN0ZXBzLgogKi8KZnVuY3Rpb24qIHVwbG9hZEZpbGVzU3RlcChpbnB1dElkLCBvdXRwdXRJZCkgewogIGNvbnN0IGlucHV0RWxlbWVudCA9IGRvY3VtZW50LmdldEVsZW1lbnRCeUlkKGlucHV0SWQpOwogIGlucHV0RWxlbWVudC5kaXNhYmxlZCA9IGZhbHNlOwoKICBjb25zdCBvdXRwdXRFbGVtZW50ID0gZG9jdW1lbnQuZ2V0RWxlbWVudEJ5SWQob3V0cHV0SWQpOwogIG91dHB1dEVsZW1lbnQuaW5uZXJIVE1MID0gJyc7CgogIGNvbnN0IHBpY2tlZFByb21pc2UgPSBuZXcgUHJvbWlzZSgocmVzb2x2ZSkgPT4gewogICAgaW5wdXRFbGVtZW50LmFkZEV2ZW50TGlzdGVuZXIoJ2NoYW5nZScsIChlKSA9PiB7CiAgICAgIHJlc29sdmUoZS50YXJnZXQuZmlsZXMpOwogICAgfSk7CiAgfSk7CgogIGNvbnN0IGNhbmNlbCA9IGRvY3VtZW50LmNyZWF0ZUVsZW1lbnQoJ2J1dHRvbicpOwogIGlucHV0RWxlbWVudC5wYXJlbnRFbGVtZW50LmFwcGVuZENoaWxkKGNhbmNlbCk7CiAgY2FuY2VsLnRleHRDb250ZW50ID0gJ0NhbmNlbCB1cGxvYWQnOwogIGNvbnN0IGNhbmNlbFByb21pc2UgPSBuZXcgUHJvbWlzZSgocmVzb2x2ZSkgPT4gewogICAgY2FuY2VsLm9uY2xpY2sgPSAoKSA9PiB7CiAgICAgIHJlc29sdmUobnVsbCk7CiAgICB9OwogIH0pOwoKICAvLyBXYWl0IGZvciB0aGUgdXNlciB0byBwaWNrIHRoZSBmaWxlcy4KICBjb25zdCBmaWxlcyA9IHlpZWxkIHsKICAgIHByb21pc2U6IFByb21pc2UucmFjZShbcGlja2VkUHJvbWlzZSwgY2FuY2VsUHJvbWlzZV0pLAogICAgcmVzcG9uc2U6IHsKICAgICAgYWN0aW9uOiAnc3RhcnRpbmcnLAogICAgfQogIH07CgogIGNhbmNlbC5yZW1vdmUoKTsKCiAgLy8gRGlzYWJsZSB0aGUgaW5wdXQgZWxlbWVudCBzaW5jZSBmdXJ0aGVyIHBpY2tzIGFyZSBub3QgYWxsb3dlZC4KICBpbnB1dEVsZW1lbnQuZGlzYWJsZWQgPSB0cnVlOwoKICBpZiAoIWZpbGVzKSB7CiAgICByZXR1cm4gewogICAgICByZXNwb25zZTogewogICAgICAgIGFjdGlvbjogJ2NvbXBsZXRlJywKICAgICAgfQogICAgfTsKICB9CgogIGZvciAoY29uc3QgZmlsZSBvZiBmaWxlcykgewogICAgY29uc3QgbGkgPSBkb2N1bWVudC5jcmVhdGVFbGVtZW50KCdsaScpOwogICAgbGkuYXBwZW5kKHNwYW4oZmlsZS5uYW1lLCB7Zm9udFdlaWdodDogJ2JvbGQnfSkpOwogICAgbGkuYXBwZW5kKHNwYW4oCiAgICAgICAgYCgke2ZpbGUudHlwZSB8fCAnbi9hJ30pIC0gJHtmaWxlLnNpemV9IGJ5dGVzLCBgICsKICAgICAgICBgbGFzdCBtb2RpZmllZDogJHsKICAgICAgICAgICAgZmlsZS5sYXN0TW9kaWZpZWREYXRlID8gZmlsZS5sYXN0TW9kaWZpZWREYXRlLnRvTG9jYWxlRGF0ZVN0cmluZygpIDoKICAgICAgICAgICAgICAgICAgICAgICAgICAgICAgICAgICAgJ24vYSd9IC0gYCkpOwogICAgY29uc3QgcGVyY2VudCA9IHNwYW4oJzAlIGRvbmUnKTsKICAgIGxpLmFwcGVuZENoaWxkKHBlcmNlbnQpOwoKICAgIG91dHB1dEVsZW1lbnQuYXBwZW5kQ2hpbGQobGkpOwoKICAgIGNvbnN0IGZpbGVEYXRhUHJvbWlzZSA9IG5ldyBQcm9taXNlKChyZXNvbHZlKSA9PiB7CiAgICAgIGNvbnN0IHJlYWRlciA9IG5ldyBGaWxlUmVhZGVyKCk7CiAgICAgIHJlYWRlci5vbmxvYWQgPSAoZSkgPT4gewogICAgICAgIHJlc29sdmUoZS50YXJnZXQucmVzdWx0KTsKICAgICAgfTsKICAgICAgcmVhZGVyLnJlYWRBc0FycmF5QnVmZmVyKGZpbGUpOwogICAgfSk7CiAgICAvLyBXYWl0IGZvciB0aGUgZGF0YSB0byBiZSByZWFkeS4KICAgIGxldCBmaWxlRGF0YSA9IHlpZWxkIHsKICAgICAgcHJvbWlzZTogZmlsZURhdGFQcm9taXNlLAogICAgICByZXNwb25zZTogewogICAgICAgIGFjdGlvbjogJ2NvbnRpbnVlJywKICAgICAgfQogICAgfTsKCiAgICAvLyBVc2UgYSBjaHVua2VkIHNlbmRpbmcgdG8gYXZvaWQgbWVzc2FnZSBzaXplIGxpbWl0cy4gU2VlIGIvNjIxMTU2NjAuCiAgICBsZXQgcG9zaXRpb24gPSAwOwogICAgd2hpbGUgKHBvc2l0aW9uIDwgZmlsZURhdGEuYnl0ZUxlbmd0aCkgewogICAgICBjb25zdCBsZW5ndGggPSBNYXRoLm1pbihmaWxlRGF0YS5ieXRlTGVuZ3RoIC0gcG9zaXRpb24sIE1BWF9QQVlMT0FEX1NJWkUpOwogICAgICBjb25zdCBjaHVuayA9IG5ldyBVaW50OEFycmF5KGZpbGVEYXRhLCBwb3NpdGlvbiwgbGVuZ3RoKTsKICAgICAgcG9zaXRpb24gKz0gbGVuZ3RoOwoKICAgICAgY29uc3QgYmFzZTY0ID0gYnRvYShTdHJpbmcuZnJvbUNoYXJDb2RlLmFwcGx5KG51bGwsIGNodW5rKSk7CiAgICAgIHlpZWxkIHsKICAgICAgICByZXNwb25zZTogewogICAgICAgICAgYWN0aW9uOiAnYXBwZW5kJywKICAgICAgICAgIGZpbGU6IGZpbGUubmFtZSwKICAgICAgICAgIGRhdGE6IGJhc2U2NCwKICAgICAgICB9LAogICAgICB9OwogICAgICBwZXJjZW50LnRleHRDb250ZW50ID0KICAgICAgICAgIGAke01hdGgucm91bmQoKHBvc2l0aW9uIC8gZmlsZURhdGEuYnl0ZUxlbmd0aCkgKiAxMDApfSUgZG9uZWA7CiAgICB9CiAgfQoKICAvLyBBbGwgZG9uZS4KICB5aWVsZCB7CiAgICByZXNwb25zZTogewogICAgICBhY3Rpb246ICdjb21wbGV0ZScsCiAgICB9CiAgfTsKfQoKc2NvcGUuZ29vZ2xlID0gc2NvcGUuZ29vZ2xlIHx8IHt9OwpzY29wZS5nb29nbGUuY29sYWIgPSBzY29wZS5nb29nbGUuY29sYWIgfHwge307CnNjb3BlLmdvb2dsZS5jb2xhYi5fZmlsZXMgPSB7CiAgX3VwbG9hZEZpbGVzLAogIF91cGxvYWRGaWxlc0NvbnRpbnVlLAp9Owp9KShzZWxmKTsK",
              "ok": true,
              "headers": [
                [
                  "content-type",
                  "application/javascript"
                ]
              ],
              "status": 200,
              "status_text": ""
            }
          },
          "base_uri": "https://localhost:8080/",
          "height": 72
        },
        "id": "kBSGBcJNWDZK",
        "outputId": "6ccdc830-30c9-4bb4-896b-c2ae608a5231"
      },
      "source": [
        "from google.colab import files\n",
        "uploaded = files.upload()"
      ],
      "execution_count": 3,
      "outputs": [
        {
          "output_type": "display_data",
          "data": {
            "text/html": [
              "\n",
              "     <input type=\"file\" id=\"files-de1e3c0e-9de0-4e29-8a53-50e6587a9c98\" name=\"files[]\" multiple disabled\n",
              "        style=\"border:none\" />\n",
              "     <output id=\"result-de1e3c0e-9de0-4e29-8a53-50e6587a9c98\">\n",
              "      Upload widget is only available when the cell has been executed in the\n",
              "      current browser session. Please rerun this cell to enable.\n",
              "      </output>\n",
              "      <script src=\"/nbextensions/google.colab/files.js\"></script> "
            ],
            "text/plain": [
              "<IPython.core.display.HTML object>"
            ]
          },
          "metadata": {
            "tags": []
          }
        },
        {
          "output_type": "stream",
          "text": [
            "Saving testset.csv to testset.csv\n",
            "Saving trainset.csv to trainset.csv\n"
          ],
          "name": "stdout"
        }
      ]
    },
    {
      "cell_type": "code",
      "metadata": {
        "id": "8c7nyWoAVxur"
      },
      "source": [
        "train = pd.read_csv('trainset.csv')\n",
        "test = pd.read_csv('testset.csv')"
      ],
      "execution_count": 4,
      "outputs": []
    },
    {
      "cell_type": "markdown",
      "metadata": {
        "id": "ntFmXXJnW4kI"
      },
      "source": [
        "Exploratory Data Analysis"
      ]
    },
    {
      "cell_type": "code",
      "metadata": {
        "colab": {
          "base_uri": "https://localhost:8080/",
          "height": 204
        },
        "id": "3FbBCvgDWtxE",
        "outputId": "bc25b786-84c9-4d0e-ac48-9e4fa37fedb0"
      },
      "source": [
        "train.head()"
      ],
      "execution_count": null,
      "outputs": [
        {
          "output_type": "execute_result",
          "data": {
            "text/html": [
              "<div>\n",
              "<style scoped>\n",
              "    .dataframe tbody tr th:only-of-type {\n",
              "        vertical-align: middle;\n",
              "    }\n",
              "\n",
              "    .dataframe tbody tr th {\n",
              "        vertical-align: top;\n",
              "    }\n",
              "\n",
              "    .dataframe thead th {\n",
              "        text-align: right;\n",
              "    }\n",
              "</style>\n",
              "<table border=\"1\" class=\"dataframe\">\n",
              "  <thead>\n",
              "    <tr style=\"text-align: right;\">\n",
              "      <th></th>\n",
              "      <th>Date</th>\n",
              "      <th>Open</th>\n",
              "      <th>High</th>\n",
              "      <th>Low</th>\n",
              "      <th>Close</th>\n",
              "      <th>Adj Close</th>\n",
              "      <th>Volume</th>\n",
              "    </tr>\n",
              "  </thead>\n",
              "  <tbody>\n",
              "    <tr>\n",
              "      <th>0</th>\n",
              "      <td>2013-01-02</td>\n",
              "      <td>357.385559</td>\n",
              "      <td>361.151062</td>\n",
              "      <td>355.959839</td>\n",
              "      <td>359.288177</td>\n",
              "      <td>359.288177</td>\n",
              "      <td>5115500</td>\n",
              "    </tr>\n",
              "    <tr>\n",
              "      <th>1</th>\n",
              "      <td>2013-01-03</td>\n",
              "      <td>360.122742</td>\n",
              "      <td>363.600128</td>\n",
              "      <td>358.031342</td>\n",
              "      <td>359.496826</td>\n",
              "      <td>359.496826</td>\n",
              "      <td>4666500</td>\n",
              "    </tr>\n",
              "    <tr>\n",
              "      <th>2</th>\n",
              "      <td>2013-01-04</td>\n",
              "      <td>362.313507</td>\n",
              "      <td>368.339294</td>\n",
              "      <td>361.488861</td>\n",
              "      <td>366.600616</td>\n",
              "      <td>366.600616</td>\n",
              "      <td>5562800</td>\n",
              "    </tr>\n",
              "    <tr>\n",
              "      <th>3</th>\n",
              "      <td>2013-01-07</td>\n",
              "      <td>365.348755</td>\n",
              "      <td>367.301056</td>\n",
              "      <td>362.929504</td>\n",
              "      <td>365.001007</td>\n",
              "      <td>365.001007</td>\n",
              "      <td>3332900</td>\n",
              "    </tr>\n",
              "    <tr>\n",
              "      <th>4</th>\n",
              "      <td>2013-01-08</td>\n",
              "      <td>365.393463</td>\n",
              "      <td>365.771027</td>\n",
              "      <td>359.874359</td>\n",
              "      <td>364.280701</td>\n",
              "      <td>364.280701</td>\n",
              "      <td>3373900</td>\n",
              "    </tr>\n",
              "  </tbody>\n",
              "</table>\n",
              "</div>"
            ],
            "text/plain": [
              "         Date        Open        High         Low       Close   Adj Close  \\\n",
              "0  2013-01-02  357.385559  361.151062  355.959839  359.288177  359.288177   \n",
              "1  2013-01-03  360.122742  363.600128  358.031342  359.496826  359.496826   \n",
              "2  2013-01-04  362.313507  368.339294  361.488861  366.600616  366.600616   \n",
              "3  2013-01-07  365.348755  367.301056  362.929504  365.001007  365.001007   \n",
              "4  2013-01-08  365.393463  365.771027  359.874359  364.280701  364.280701   \n",
              "\n",
              "    Volume  \n",
              "0  5115500  \n",
              "1  4666500  \n",
              "2  5562800  \n",
              "3  3332900  \n",
              "4  3373900  "
            ]
          },
          "metadata": {
            "tags": []
          },
          "execution_count": 6
        }
      ]
    },
    {
      "cell_type": "code",
      "metadata": {
        "colab": {
          "base_uri": "https://localhost:8080/"
        },
        "id": "WOdDH9n0Wx_X",
        "outputId": "aae3e20d-e20b-42ad-ba38-48a11a157857"
      },
      "source": [
        "train.info()"
      ],
      "execution_count": null,
      "outputs": [
        {
          "output_type": "stream",
          "text": [
            "<class 'pandas.core.frame.DataFrame'>\n",
            "RangeIndex: 1259 entries, 0 to 1258\n",
            "Data columns (total 7 columns):\n",
            " #   Column     Non-Null Count  Dtype  \n",
            "---  ------     --------------  -----  \n",
            " 0   Date       1259 non-null   object \n",
            " 1   Open       1259 non-null   float64\n",
            " 2   High       1259 non-null   float64\n",
            " 3   Low        1259 non-null   float64\n",
            " 4   Close      1259 non-null   float64\n",
            " 5   Adj Close  1259 non-null   float64\n",
            " 6   Volume     1259 non-null   int64  \n",
            "dtypes: float64(5), int64(1), object(1)\n",
            "memory usage: 69.0+ KB\n"
          ],
          "name": "stdout"
        }
      ]
    },
    {
      "cell_type": "code",
      "metadata": {
        "colab": {
          "base_uri": "https://localhost:8080/"
        },
        "id": "2MC0i97nXFfV",
        "outputId": "25d390e3-e751-4c68-ba8e-cbf2d85183b7"
      },
      "source": [
        "train.dtypes"
      ],
      "execution_count": null,
      "outputs": [
        {
          "output_type": "execute_result",
          "data": {
            "text/plain": [
              "Date         object \n",
              "Open         float64\n",
              "High         float64\n",
              "Low          float64\n",
              "Close        float64\n",
              "Adj Close    float64\n",
              "Volume       int64  \n",
              "dtype: object"
            ]
          },
          "metadata": {
            "tags": []
          },
          "execution_count": 10
        }
      ]
    },
    {
      "cell_type": "code",
      "metadata": {
        "colab": {
          "base_uri": "https://localhost:8080/",
          "height": 390
        },
        "id": "LTyebq66XFk1",
        "outputId": "1d7103da-1a38-48dc-f324-c901b71d75f1"
      },
      "source": [
        "train.describe(include='all')"
      ],
      "execution_count": null,
      "outputs": [
        {
          "output_type": "execute_result",
          "data": {
            "text/html": [
              "<div>\n",
              "<style scoped>\n",
              "    .dataframe tbody tr th:only-of-type {\n",
              "        vertical-align: middle;\n",
              "    }\n",
              "\n",
              "    .dataframe tbody tr th {\n",
              "        vertical-align: top;\n",
              "    }\n",
              "\n",
              "    .dataframe thead th {\n",
              "        text-align: right;\n",
              "    }\n",
              "</style>\n",
              "<table border=\"1\" class=\"dataframe\">\n",
              "  <thead>\n",
              "    <tr style=\"text-align: right;\">\n",
              "      <th></th>\n",
              "      <th>Date</th>\n",
              "      <th>Open</th>\n",
              "      <th>High</th>\n",
              "      <th>Low</th>\n",
              "      <th>Close</th>\n",
              "      <th>Adj Close</th>\n",
              "      <th>Volume</th>\n",
              "    </tr>\n",
              "  </thead>\n",
              "  <tbody>\n",
              "    <tr>\n",
              "      <th>count</th>\n",
              "      <td>1259</td>\n",
              "      <td>1259.000000</td>\n",
              "      <td>1259.000000</td>\n",
              "      <td>1259.000000</td>\n",
              "      <td>1259.000000</td>\n",
              "      <td>1259.000000</td>\n",
              "      <td>1.259000e+03</td>\n",
              "    </tr>\n",
              "    <tr>\n",
              "      <th>unique</th>\n",
              "      <td>1259</td>\n",
              "      <td>NaN</td>\n",
              "      <td>NaN</td>\n",
              "      <td>NaN</td>\n",
              "      <td>NaN</td>\n",
              "      <td>NaN</td>\n",
              "      <td>NaN</td>\n",
              "    </tr>\n",
              "    <tr>\n",
              "      <th>top</th>\n",
              "      <td>2015-03-18</td>\n",
              "      <td>NaN</td>\n",
              "      <td>NaN</td>\n",
              "      <td>NaN</td>\n",
              "      <td>NaN</td>\n",
              "      <td>NaN</td>\n",
              "      <td>NaN</td>\n",
              "    </tr>\n",
              "    <tr>\n",
              "      <th>freq</th>\n",
              "      <td>1</td>\n",
              "      <td>NaN</td>\n",
              "      <td>NaN</td>\n",
              "      <td>NaN</td>\n",
              "      <td>NaN</td>\n",
              "      <td>NaN</td>\n",
              "      <td>NaN</td>\n",
              "    </tr>\n",
              "    <tr>\n",
              "      <th>mean</th>\n",
              "      <td>NaN</td>\n",
              "      <td>652.704082</td>\n",
              "      <td>657.475653</td>\n",
              "      <td>647.433700</td>\n",
              "      <td>652.657015</td>\n",
              "      <td>652.657015</td>\n",
              "      <td>2.414928e+06</td>\n",
              "    </tr>\n",
              "    <tr>\n",
              "      <th>std</th>\n",
              "      <td>NaN</td>\n",
              "      <td>175.630574</td>\n",
              "      <td>176.627416</td>\n",
              "      <td>174.732814</td>\n",
              "      <td>175.820993</td>\n",
              "      <td>175.820993</td>\n",
              "      <td>1.672160e+06</td>\n",
              "    </tr>\n",
              "    <tr>\n",
              "      <th>min</th>\n",
              "      <td>NaN</td>\n",
              "      <td>350.053253</td>\n",
              "      <td>350.391052</td>\n",
              "      <td>345.512787</td>\n",
              "      <td>349.164032</td>\n",
              "      <td>349.164032</td>\n",
              "      <td>7.900000e+03</td>\n",
              "    </tr>\n",
              "    <tr>\n",
              "      <th>25%</th>\n",
              "      <td>NaN</td>\n",
              "      <td>528.287079</td>\n",
              "      <td>532.615204</td>\n",
              "      <td>524.232483</td>\n",
              "      <td>528.429413</td>\n",
              "      <td>528.429413</td>\n",
              "      <td>1.336900e+06</td>\n",
              "    </tr>\n",
              "    <tr>\n",
              "      <th>50%</th>\n",
              "      <td>NaN</td>\n",
              "      <td>600.002563</td>\n",
              "      <td>603.236511</td>\n",
              "      <td>594.453674</td>\n",
              "      <td>598.005554</td>\n",
              "      <td>598.005554</td>\n",
              "      <td>1.842300e+06</td>\n",
              "    </tr>\n",
              "    <tr>\n",
              "      <th>75%</th>\n",
              "      <td>NaN</td>\n",
              "      <td>774.015015</td>\n",
              "      <td>779.120025</td>\n",
              "      <td>768.662506</td>\n",
              "      <td>772.720002</td>\n",
              "      <td>772.720002</td>\n",
              "      <td>3.090850e+06</td>\n",
              "    </tr>\n",
              "    <tr>\n",
              "      <th>max</th>\n",
              "      <td>NaN</td>\n",
              "      <td>1075.199951</td>\n",
              "      <td>1078.489990</td>\n",
              "      <td>1063.550049</td>\n",
              "      <td>1077.140015</td>\n",
              "      <td>1077.140015</td>\n",
              "      <td>2.328310e+07</td>\n",
              "    </tr>\n",
              "  </tbody>\n",
              "</table>\n",
              "</div>"
            ],
            "text/plain": [
              "              Date         Open         High          Low        Close  \\\n",
              "count   1259        1259.000000  1259.000000  1259.000000  1259.000000   \n",
              "unique  1259       NaN          NaN          NaN          NaN            \n",
              "top     2015-03-18 NaN          NaN          NaN          NaN            \n",
              "freq    1          NaN          NaN          NaN          NaN            \n",
              "mean    NaN         652.704082   657.475653   647.433700   652.657015    \n",
              "std     NaN         175.630574   176.627416   174.732814   175.820993    \n",
              "min     NaN         350.053253   350.391052   345.512787   349.164032    \n",
              "25%     NaN         528.287079   532.615204   524.232483   528.429413    \n",
              "50%     NaN         600.002563   603.236511   594.453674   598.005554    \n",
              "75%     NaN         774.015015   779.120025   768.662506   772.720002    \n",
              "max     NaN         1075.199951  1078.489990  1063.550049  1077.140015   \n",
              "\n",
              "          Adj Close        Volume  \n",
              "count   1259.000000  1.259000e+03  \n",
              "unique NaN          NaN            \n",
              "top    NaN          NaN            \n",
              "freq   NaN          NaN            \n",
              "mean    652.657015   2.414928e+06  \n",
              "std     175.820993   1.672160e+06  \n",
              "min     349.164032   7.900000e+03  \n",
              "25%     528.429413   1.336900e+06  \n",
              "50%     598.005554   1.842300e+06  \n",
              "75%     772.720002   3.090850e+06  \n",
              "max     1077.140015  2.328310e+07  "
            ]
          },
          "metadata": {
            "tags": []
          },
          "execution_count": 12
        }
      ]
    },
    {
      "cell_type": "code",
      "metadata": {
        "colab": {
          "base_uri": "https://localhost:8080/"
        },
        "id": "w9lGOHzGXFq6",
        "outputId": "52cb862e-a04c-40f0-f841-f81d7d971f0e"
      },
      "source": [
        "date = pd.to_datetime(train[\"Date\"])\n",
        "min(date), max(date)"
      ],
      "execution_count": null,
      "outputs": [
        {
          "output_type": "execute_result",
          "data": {
            "text/plain": [
              "(Timestamp('2013-01-02 00:00:00'), Timestamp('2017-12-29 00:00:00'))"
            ]
          },
          "metadata": {
            "tags": []
          },
          "execution_count": 17
        }
      ]
    },
    {
      "cell_type": "code",
      "metadata": {
        "colab": {
          "base_uri": "https://localhost:8080/"
        },
        "id": "GeJAcFVGXF8B",
        "outputId": "86b800c1-ea30-4302-c4df-376b6c3c19a0"
      },
      "source": [
        "train.isnull().sum()"
      ],
      "execution_count": null,
      "outputs": [
        {
          "output_type": "execute_result",
          "data": {
            "text/plain": [
              "Date         0\n",
              "Open         0\n",
              "High         0\n",
              "Low          0\n",
              "Close        0\n",
              "Adj Close    0\n",
              "Volume       0\n",
              "dtype: int64"
            ]
          },
          "metadata": {
            "tags": []
          },
          "execution_count": 18
        }
      ]
    },
    {
      "cell_type": "code",
      "metadata": {
        "colab": {
          "base_uri": "https://localhost:8080/"
        },
        "id": "KStE4ySOXF4S",
        "outputId": "f490ae1e-e102-4c39-d393-6f8fecad9594"
      },
      "source": [
        "test.isnull().sum()"
      ],
      "execution_count": null,
      "outputs": [
        {
          "output_type": "execute_result",
          "data": {
            "text/plain": [
              "Date         0\n",
              "Open         0\n",
              "High         0\n",
              "Low          0\n",
              "Close        0\n",
              "Adj Close    0\n",
              "Volume       0\n",
              "dtype: int64"
            ]
          },
          "metadata": {
            "tags": []
          },
          "execution_count": 19
        }
      ]
    },
    {
      "cell_type": "code",
      "metadata": {
        "colab": {
          "base_uri": "https://localhost:8080/",
          "height": 602
        },
        "id": "j4P7lTw2XF17",
        "outputId": "908ca4f8-6ffd-4f6c-defb-95616f4968e8"
      },
      "source": [
        "def plotter(data):\n",
        "    open_values = data.Open.values.astype('float32').reshape(-1, 1)\n",
        "    close_values = data.Close.values.astype('float32').reshape(-1, 1)\n",
        "    \n",
        "    fig, axes = plt.subplots(2, 1, figsize=(16, 8))\n",
        "    axes[0].set_xlabel('Time')\n",
        "    axes[0].set_ylabel('Prices')\n",
        "    axes[0].set_title('Open stock prices')\n",
        "    axes[0].plot(open_values , 'g')\n",
        "    axes[0].xaxis.set_tick_params(rotation=270)\n",
        "    \n",
        "\n",
        "    axes[1].set_xlabel('Time')\n",
        "    axes[1].set_ylabel('Prices')\n",
        "    axes[1].set_title('Close stock prices')\n",
        "    axes[1].plot(close_values , 'b')\n",
        "    axes[1].xaxis.set_tick_params(rotation=270)\n",
        "    \n",
        "    fig.tight_layout()\n",
        "    plt.grid(True)\n",
        "    plt.show()\n",
        "\n",
        "plotter(train)\n",
        "\n",
        "print(f\"correlation: {np.around(train[['Open', 'Close']].corr().values[0, 1], 4)}\")"
      ],
      "execution_count": 5,
      "outputs": [
        {
          "output_type": "display_data",
          "data": {
            "image/png": "[encoded data removed]",
            "text/plain": [
              "<Figure size 1152x576 with 2 Axes>"
            ]
          },
          "metadata": {
            "tags": [],
            "needs_background": "light"
          }
        },
        {
          "output_type": "stream",
          "text": [
            "correlation: 0.9992\n"
          ],
          "name": "stdout"
        }
      ]
    },
    {
      "cell_type": "markdown",
      "metadata": {
        "id": "7SXdD1mTb9aU"
      },
      "source": [
        "Preprocessing"
      ]
    },
    {
      "cell_type": "code",
      "metadata": {
        "id": "4FljWJTgXFi4"
      },
      "source": [
        "series_train = train[['Close']]\n",
        "series_train_mean = series_train.mean().values.item()\n",
        "series_train = series_train - series_train_mean\n",
        "scaler = MinMaxScaler(feature_range=(0, 1))\n",
        "series_train = scaler.fit_transform(series_train)"
      ],
      "execution_count": 42,
      "outputs": []
    },
    {
      "cell_type": "code",
      "metadata": {
        "id": "NZkQZLNDCBBZ"
      },
      "source": [
        "series_test = test[['Close']]\n",
        "series_test_mean = series_test.mean().values.item()\n",
        "series_test = series_test - series_test_mean\n",
        "scaler = MinMaxScaler(feature_range=(0, 1))\n",
        "series_test = scaler.fit_transform(series_test)\n"
      ],
      "execution_count": 43,
      "outputs": []
    },
    {
      "cell_type": "code",
      "metadata": {
        "colab": {
          "base_uri": "https://localhost:8080/"
        },
        "id": "os49EyjLBiMe",
        "outputId": "089155a3-7162-4aab-ec2b-c10ddee3a3e9"
      },
      "source": [
        "series_train"
      ],
      "execution_count": 16,
      "outputs": [
        {
          "output_type": "execute_result",
          "data": {
            "text/plain": [
              "array([[0.01390725],\n",
              "       [0.01419387],\n",
              "       [0.02395214],\n",
              "       ...,\n",
              "       [0.96185311],\n",
              "       [0.96016352],\n",
              "       [0.95777334]])"
            ]
          },
          "metadata": {
            "tags": []
          },
          "execution_count": 16
        }
      ]
    },
    {
      "cell_type": "code",
      "metadata": {
        "colab": {
          "base_uri": "https://localhost:8080/"
        },
        "id": "km_PeNsuCNOT",
        "outputId": "7a7d4ebb-ebf4-4b0c-d49c-579b689497d5"
      },
      "source": [
        "series_test"
      ],
      "execution_count": 17,
      "outputs": [
        {
          "output_type": "execute_result",
          "data": {
            "text/plain": [
              "array([[0.36415787],\n",
              "       [0.46443314],\n",
              "       [0.48692078],\n",
              "       [0.57773056],\n",
              "       [0.60474962],\n",
              "       [0.60084914],\n",
              "       [0.57991049],\n",
              "       [0.59660413],\n",
              "       [0.69263439],\n",
              "       [0.6897661 ],\n",
              "       [0.74839376],\n",
              "       [0.73583099],\n",
              "       [0.78011721],\n",
              "       [0.88509687],\n",
              "       [0.96632631],\n",
              "       [0.93345583],\n",
              "       [0.96862108],\n",
              "       [1.        ],\n",
              "       [0.99850843],\n",
              "       [0.93030043],\n",
              "       [0.96615405],\n",
              "       [0.95330417],\n",
              "       [0.63320352],\n",
              "       [0.31138163],\n",
              "       [0.45364835],\n",
              "       [0.269963  ],\n",
              "       [0.        ],\n",
              "       [0.20800838],\n",
              "       [0.28923782],\n",
              "       [0.29015587],\n",
              "       [0.39111951],\n",
              "       [0.50481888],\n",
              "       [0.53510818],\n",
              "       [0.57904986],\n",
              "       [0.62999071],\n",
              "       [0.60297165],\n",
              "       [0.71862126],\n",
              "       [0.8159134 ],\n",
              "       [0.66986034],\n",
              "       [0.59207201],\n",
              "       [0.39008732],\n",
              "       [0.44401129],\n",
              "       [0.51290765],\n",
              "       [0.53659975],\n",
              "       [0.62023881],\n",
              "       [0.71408914],\n",
              "       [0.90936248],\n",
              "       [0.9349474 ],\n",
              "       [0.78390355],\n",
              "       [0.8488413 ],\n",
              "       [0.8493574 ],\n",
              "       [0.76990593],\n",
              "       [0.56390521],\n",
              "       [0.55180112],\n",
              "       [0.51262054],\n",
              "       [0.27283129],\n",
              "       [0.11501832],\n",
              "       [0.29652339],\n",
              "       [0.0205367 ],\n",
              "       [0.01743907],\n",
              "       [0.17364633],\n",
              "       [0.02839578],\n",
              "       [0.06820765],\n",
              "       [0.13549795],\n",
              "       [0.15081486],\n",
              "       [0.03166567],\n",
              "       [0.07991049],\n",
              "       [0.17278571],\n",
              "       [0.10583959],\n",
              "       [0.1777765 ],\n",
              "       [0.15919004],\n",
              "       [0.20915541],\n",
              "       [0.41670512],\n",
              "       [0.40477259],\n",
              "       [0.49437791],\n",
              "       [0.40982081],\n",
              "       [0.3782122 ],\n",
              "       [0.105897  ],\n",
              "       [0.11278097],\n",
              "       [0.2209731 ],\n",
              "       [0.16366474],\n",
              "       [0.09069528],\n",
              "       [0.20531236],\n",
              "       [0.13113809],\n",
              "       [0.12735175],\n",
              "       [0.2678405 ],\n",
              "       [0.30558763],\n",
              "       [0.30053941],\n",
              "       [0.46603955],\n",
              "       [0.55099791],\n",
              "       [0.55495652],\n",
              "       [0.56608514],\n",
              "       [0.44578926],\n",
              "       [0.4603604 ],\n",
              "       [0.44211777],\n",
              "       [0.37195953],\n",
              "       [0.44779693],\n",
              "       [0.39129177],\n",
              "       [0.44842786],\n",
              "       [0.44584668],\n",
              "       [0.42530999],\n",
              "       [0.33731037],\n",
              "       [0.38022057],\n",
              "       [0.47883201],\n",
              "       [0.67680138],\n",
              "       [0.79032849],\n",
              "       [0.79245099],\n",
              "       [0.77650314],\n",
              "       [0.70181277],\n",
              "       [0.68466046],\n",
              "       [0.73697803],\n",
              "       [0.79050005],\n",
              "       [0.76451388],\n",
              "       [0.86392853],\n",
              "       [0.86473174],\n",
              "       [0.98634692],\n",
              "       [0.95536996],\n",
              "       [0.96558053],\n",
              "       [0.8957094 ],\n",
              "       [0.88320335],\n",
              "       [0.70726295],\n",
              "       [0.67083511],\n",
              "       [0.58776957],\n",
              "       [0.64651208],\n",
              "       [0.65471569]])"
            ]
          },
          "metadata": {
            "tags": []
          },
          "execution_count": 17
        }
      ]
    },
    {
      "cell_type": "code",
      "metadata": {
        "colab": {
          "base_uri": "https://localhost:8080/",
          "height": 297
        },
        "id": "PgX7W5rdBpF4",
        "outputId": "b99c9362-c213-44cc-ebb9-8e5cfb620f81"
      },
      "source": [
        "pd.DataFrame(series_train).describe()"
      ],
      "execution_count": 18,
      "outputs": [
        {
          "output_type": "execute_result",
          "data": {
            "text/html": [
              "<div>\n",
              "<style scoped>\n",
              "    .dataframe tbody tr th:only-of-type {\n",
              "        vertical-align: middle;\n",
              "    }\n",
              "\n",
              "    .dataframe tbody tr th {\n",
              "        vertical-align: top;\n",
              "    }\n",
              "\n",
              "    .dataframe thead th {\n",
              "        text-align: right;\n",
              "    }\n",
              "</style>\n",
              "<table border=\"1\" class=\"dataframe\">\n",
              "  <thead>\n",
              "    <tr style=\"text-align: right;\">\n",
              "      <th></th>\n",
              "      <th>0</th>\n",
              "    </tr>\n",
              "  </thead>\n",
              "  <tbody>\n",
              "    <tr>\n",
              "      <th>count</th>\n",
              "      <td>1259.000000</td>\n",
              "    </tr>\n",
              "    <tr>\n",
              "      <th>mean</th>\n",
              "      <td>0.416900</td>\n",
              "    </tr>\n",
              "    <tr>\n",
              "      <th>std</th>\n",
              "      <td>0.241520</td>\n",
              "    </tr>\n",
              "    <tr>\n",
              "      <th>min</th>\n",
              "      <td>0.000000</td>\n",
              "    </tr>\n",
              "    <tr>\n",
              "      <th>25%</th>\n",
              "      <td>0.246252</td>\n",
              "    </tr>\n",
              "    <tr>\n",
              "      <th>50%</th>\n",
              "      <td>0.341827</td>\n",
              "    </tr>\n",
              "    <tr>\n",
              "      <th>75%</th>\n",
              "      <td>0.581827</td>\n",
              "    </tr>\n",
              "    <tr>\n",
              "      <th>max</th>\n",
              "      <td>1.000000</td>\n",
              "    </tr>\n",
              "  </tbody>\n",
              "</table>\n",
              "</div>"
            ],
            "text/plain": [
              "                 0\n",
              "count  1259.000000\n",
              "mean   0.416900   \n",
              "std    0.241520   \n",
              "min    0.000000   \n",
              "25%    0.246252   \n",
              "50%    0.341827   \n",
              "75%    0.581827   \n",
              "max    1.000000   "
            ]
          },
          "metadata": {
            "tags": []
          },
          "execution_count": 18
        }
      ]
    },
    {
      "cell_type": "code",
      "metadata": {
        "colab": {
          "base_uri": "https://localhost:8080/",
          "height": 315
        },
        "id": "UqcT_nRJBxXv",
        "outputId": "3b769445-d560-4c09-836c-0ecd23e18991"
      },
      "source": [
        "pd.DataFrame(series_train).hist(bins=100)"
      ],
      "execution_count": 19,
      "outputs": [
        {
          "output_type": "execute_result",
          "data": {
            "text/plain": [
              "array([[<matplotlib.axes._subplots.AxesSubplot object at 0x7fbe213b0438>]],\n",
              "      dtype=object)"
            ]
          },
          "metadata": {
            "tags": []
          },
          "execution_count": 19
        },
        {
          "output_type": "display_data",
          "data": {
            "image/png": "[encoded data removed]",
            "text/plain": [
              "<Figure size 432x288 with 1 Axes>"
            ]
          },
          "metadata": {
            "tags": [],
            "needs_background": "light"
          }
        }
      ]
    },
    {
      "cell_type": "markdown",
      "metadata": {
        "id": "NcMZPCsTB7XQ"
      },
      "source": [
        "Modelling\n"
      ]
    },
    {
      "cell_type": "code",
      "metadata": {
        "id": "Aa60OH9KBxdb"
      },
      "source": [
        "def process_data(data, n_steps):\n",
        "    X, y = list(), list()\n",
        "    for i in range(len(data) - n_steps):\n",
        "        sequence = data[i : (i + n_steps), 0]\n",
        "        X.append(sequence)\n",
        "        y.append(data[i + n_steps, 0])\n",
        "    return np.array(X), np.array(y)"
      ],
      "execution_count": 20,
      "outputs": []
    },
    {
      "cell_type": "code",
      "metadata": {
        "colab": {
          "base_uri": "https://localhost:8080/"
        },
        "id": "NNCIL2hNBxVk",
        "outputId": "58be7a6b-fc7c-48c7-e9fd-1e9e057daee1"
      },
      "source": [
        "n_steps = 2\n",
        "X_train, y_train = process_data(series_train, n_steps)\n",
        "X_test, y_test = process_data(series_test, n_steps)\n",
        "\n",
        "print(X_train.shape, y_train.shape, X_test.shape, y_test.shape)"
      ],
      "execution_count": 44,
      "outputs": [
        {
          "output_type": "stream",
          "text": [
            "(1257, 2) (1257,) (123, 2) (123,)\n"
          ],
          "name": "stdout"
        }
      ]
    },
    {
      "cell_type": "code",
      "metadata": {
        "id": "_IdgUtOwBxTL"
      },
      "source": [
        "X_train = X_train[..., np.newaxis]\n",
        "X_test = X_test[..., np.newaxis]"
      ],
      "execution_count": 45,
      "outputs": []
    },
    {
      "cell_type": "code",
      "metadata": {
        "id": "VgU1ynEHBxRm"
      },
      "source": [
        "filepath = './model.h5'\n",
        "lr_reduce = ReduceLROnPlateau(monitor='val_loss', factor=0.8, min_delta=0.0001, patience=10, verbose=1)\n",
        "checkpoint = ModelCheckpoint(filepath, monitor='val_loss', verbose=1, save_best_only=True, mode='min')"
      ],
      "execution_count": 46,
      "outputs": []
    },
    {
      "cell_type": "code",
      "metadata": {
        "colab": {
          "base_uri": "https://localhost:8080/"
        },
        "id": "ZAEWhMmsCyLr",
        "outputId": "49f3af10-8dbc-4293-abe7-73a28ff307a0"
      },
      "source": [
        "model = Sequential()\n",
        "model.add(GRU(256 , input_shape=(n_steps, 1) , return_sequences=True))\n",
        "model.add(Dropout(0.2))\n",
        "model.add(LSTM(256))\n",
        "model.add(Dropout(0.2))\n",
        "model.add(Dense(64 ,  activation = 'relu'))\n",
        "model.add(Dense(32 ,  activation = 'relu'))\n",
        "model.add(Dense(1))\n",
        "print(model.summary())"
      ],
      "execution_count": 47,
      "outputs": [
        {
          "output_type": "stream",
          "text": [
            "Model: \"sequential_1\"\n",
            "_________________________________________________________________\n",
            "Layer (type)                 Output Shape              Param #   \n",
            "=================================================================\n",
            "gru_1 (GRU)                  (None, 2, 256)            198912    \n",
            "_________________________________________________________________\n",
            "dropout_2 (Dropout)          (None, 2, 256)            0         \n",
            "_________________________________________________________________\n",
            "lstm_1 (LSTM)                (None, 256)               525312    \n",
            "_________________________________________________________________\n",
            "dropout_3 (Dropout)          (None, 256)               0         \n",
            "_________________________________________________________________\n",
            "dense_3 (Dense)              (None, 64)                16448     \n",
            "_________________________________________________________________\n",
            "dense_4 (Dense)              (None, 32)                2080      \n",
            "_________________________________________________________________\n",
            "dense_5 (Dense)              (None, 1)                 33        \n",
            "=================================================================\n",
            "Total params: 742,785\n",
            "Trainable params: 742,785\n",
            "Non-trainable params: 0\n",
            "_________________________________________________________________\n",
            "None\n"
          ],
          "name": "stdout"
        }
      ]
    },
    {
      "cell_type": "code",
      "metadata": {
        "id": "CJUeAtEuCyJ6"
      },
      "source": [
        "model.compile(loss='mean_squared_error', optimizer=RMSprop(lr = 0.0001) , metrics = ['mean_squared_error'])"
      ],
      "execution_count": 48,
      "outputs": []
    },
    {
      "cell_type": "code",
      "metadata": {
        "colab": {
          "base_uri": "https://localhost:8080/"
        },
        "id": "wRDY_FvKCyF7",
        "outputId": "bf64b94b-f799-4ba3-ef1e-bc937219a9e8"
      },
      "source": [
        "history = model.fit(X_train, \n",
        "                    y_train, \n",
        "                    epochs=100, \n",
        "                    batch_size=256, \n",
        "                    callbacks=[checkpoint, lr_reduce], \n",
        "                    validation_data=(X_test, y_test))"
      ],
      "execution_count": 49,
      "outputs": [
        {
          "output_type": "stream",
          "text": [
            "Epoch 1/100\n",
            "5/5 [==============================] - ETA: 0s - loss: 0.2182 - mean_squared_error: 0.2182\n",
            "Epoch 00001: val_loss improved from inf to 0.29690, saving model to ./model.h5\n",
            "5/5 [==============================] - 1s 207ms/step - loss: 0.2182 - mean_squared_error: 0.2182 - val_loss: 0.2969 - val_mean_squared_error: 0.2969\n",
            "Epoch 2/100\n",
            "5/5 [==============================] - ETA: 0s - loss: 0.1865 - mean_squared_error: 0.1865\n",
            "Epoch 00002: val_loss improved from 0.29690 to 0.25931, saving model to ./model.h5\n",
            "5/5 [==============================] - 0s 72ms/step - loss: 0.1865 - mean_squared_error: 0.1865 - val_loss: 0.2593 - val_mean_squared_error: 0.2593\n",
            "Epoch 3/100\n",
            "5/5 [==============================] - ETA: 0s - loss: 0.1598 - mean_squared_error: 0.1598\n",
            "Epoch 00003: val_loss improved from 0.25931 to 0.22250, saving model to ./model.h5\n",
            "5/5 [==============================] - 0s 74ms/step - loss: 0.1598 - mean_squared_error: 0.1598 - val_loss: 0.2225 - val_mean_squared_error: 0.2225\n",
            "Epoch 4/100\n",
            "5/5 [==============================] - ETA: 0s - loss: 0.1326 - mean_squared_error: 0.1326\n",
            "Epoch 00004: val_loss improved from 0.22250 to 0.18177, saving model to ./model.h5\n",
            "5/5 [==============================] - 0s 71ms/step - loss: 0.1326 - mean_squared_error: 0.1326 - val_loss: 0.1818 - val_mean_squared_error: 0.1818\n",
            "Epoch 5/100\n",
            "5/5 [==============================] - ETA: 0s - loss: 0.1044 - mean_squared_error: 0.1044\n",
            "Epoch 00005: val_loss improved from 0.18177 to 0.14299, saving model to ./model.h5\n",
            "5/5 [==============================] - 0s 71ms/step - loss: 0.1044 - mean_squared_error: 0.1044 - val_loss: 0.1430 - val_mean_squared_error: 0.1430\n",
            "Epoch 6/100\n",
            "5/5 [==============================] - ETA: 0s - loss: 0.0782 - mean_squared_error: 0.0782\n",
            "Epoch 00006: val_loss improved from 0.14299 to 0.10755, saving model to ./model.h5\n",
            "5/5 [==============================] - 0s 70ms/step - loss: 0.0782 - mean_squared_error: 0.0782 - val_loss: 0.1076 - val_mean_squared_error: 0.1076\n",
            "Epoch 7/100\n",
            "5/5 [==============================] - ETA: 0s - loss: 0.0550 - mean_squared_error: 0.0550\n",
            "Epoch 00007: val_loss improved from 0.10755 to 0.07671, saving model to ./model.h5\n",
            "5/5 [==============================] - 0s 84ms/step - loss: 0.0550 - mean_squared_error: 0.0550 - val_loss: 0.0767 - val_mean_squared_error: 0.0767\n",
            "Epoch 8/100\n",
            "5/5 [==============================] - ETA: 0s - loss: 0.0363 - mean_squared_error: 0.0363\n",
            "Epoch 00008: val_loss improved from 0.07671 to 0.05228, saving model to ./model.h5\n",
            "5/5 [==============================] - 0s 70ms/step - loss: 0.0363 - mean_squared_error: 0.0363 - val_loss: 0.0523 - val_mean_squared_error: 0.0523\n",
            "Epoch 9/100\n",
            "5/5 [==============================] - ETA: 0s - loss: 0.0222 - mean_squared_error: 0.0222\n",
            "Epoch 00009: val_loss improved from 0.05228 to 0.03570, saving model to ./model.h5\n",
            "5/5 [==============================] - 0s 72ms/step - loss: 0.0222 - mean_squared_error: 0.0222 - val_loss: 0.0357 - val_mean_squared_error: 0.0357\n",
            "Epoch 10/100\n",
            "5/5 [==============================] - ETA: 0s - loss: 0.0143 - mean_squared_error: 0.0143\n",
            "Epoch 00010: val_loss improved from 0.03570 to 0.02665, saving model to ./model.h5\n",
            "5/5 [==============================] - 0s 71ms/step - loss: 0.0143 - mean_squared_error: 0.0143 - val_loss: 0.0266 - val_mean_squared_error: 0.0266\n",
            "Epoch 11/100\n",
            "5/5 [==============================] - ETA: 0s - loss: 0.0100 - mean_squared_error: 0.0100\n",
            "Epoch 00011: val_loss improved from 0.02665 to 0.02256, saving model to ./model.h5\n",
            "5/5 [==============================] - 0s 70ms/step - loss: 0.0100 - mean_squared_error: 0.0100 - val_loss: 0.0226 - val_mean_squared_error: 0.0226\n",
            "Epoch 12/100\n",
            "5/5 [==============================] - ETA: 0s - loss: 0.0089 - mean_squared_error: 0.0089\n",
            "Epoch 00012: val_loss improved from 0.02256 to 0.02120, saving model to ./model.h5\n",
            "5/5 [==============================] - 0s 71ms/step - loss: 0.0089 - mean_squared_error: 0.0089 - val_loss: 0.0212 - val_mean_squared_error: 0.0212\n",
            "Epoch 13/100\n",
            "5/5 [==============================] - ETA: 0s - loss: 0.0082 - mean_squared_error: 0.0082\n",
            "Epoch 00013: val_loss improved from 0.02120 to 0.02008, saving model to ./model.h5\n",
            "5/5 [==============================] - 0s 71ms/step - loss: 0.0082 - mean_squared_error: 0.0082 - val_loss: 0.0201 - val_mean_squared_error: 0.0201\n",
            "Epoch 14/100\n",
            "5/5 [==============================] - ETA: 0s - loss: 0.0071 - mean_squared_error: 0.0071\n",
            "Epoch 00014: val_loss improved from 0.02008 to 0.01927, saving model to ./model.h5\n",
            "5/5 [==============================] - 0s 72ms/step - loss: 0.0071 - mean_squared_error: 0.0071 - val_loss: 0.0193 - val_mean_squared_error: 0.0193\n",
            "Epoch 15/100\n",
            "5/5 [==============================] - ETA: 0s - loss: 0.0062 - mean_squared_error: 0.0062\n",
            "Epoch 00015: val_loss improved from 0.01927 to 0.01847, saving model to ./model.h5\n",
            "5/5 [==============================] - 0s 72ms/step - loss: 0.0062 - mean_squared_error: 0.0062 - val_loss: 0.0185 - val_mean_squared_error: 0.0185\n",
            "Epoch 16/100\n",
            "5/5 [==============================] - ETA: 0s - loss: 0.0050 - mean_squared_error: 0.0050\n",
            "Epoch 00016: val_loss improved from 0.01847 to 0.01777, saving model to ./model.h5\n",
            "5/5 [==============================] - 0s 69ms/step - loss: 0.0050 - mean_squared_error: 0.0050 - val_loss: 0.0178 - val_mean_squared_error: 0.0178\n",
            "Epoch 17/100\n",
            "5/5 [==============================] - ETA: 0s - loss: 0.0040 - mean_squared_error: 0.0040\n",
            "Epoch 00017: val_loss improved from 0.01777 to 0.01742, saving model to ./model.h5\n",
            "5/5 [==============================] - 0s 71ms/step - loss: 0.0040 - mean_squared_error: 0.0040 - val_loss: 0.0174 - val_mean_squared_error: 0.0174\n",
            "Epoch 18/100\n",
            "5/5 [==============================] - ETA: 0s - loss: 0.0033 - mean_squared_error: 0.0033\n",
            "Epoch 00018: val_loss improved from 0.01742 to 0.01703, saving model to ./model.h5\n",
            "5/5 [==============================] - 0s 73ms/step - loss: 0.0033 - mean_squared_error: 0.0033 - val_loss: 0.0170 - val_mean_squared_error: 0.0170\n",
            "Epoch 19/100\n",
            "5/5 [==============================] - ETA: 0s - loss: 0.0024 - mean_squared_error: 0.0024\n",
            "Epoch 00019: val_loss improved from 0.01703 to 0.01693, saving model to ./model.h5\n",
            "5/5 [==============================] - 0s 70ms/step - loss: 0.0024 - mean_squared_error: 0.0024 - val_loss: 0.0169 - val_mean_squared_error: 0.0169\n",
            "Epoch 20/100\n",
            "5/5 [==============================] - ETA: 0s - loss: 0.0019 - mean_squared_error: 0.0019\n",
            "Epoch 00020: val_loss improved from 0.01693 to 0.01691, saving model to ./model.h5\n",
            "5/5 [==============================] - 0s 71ms/step - loss: 0.0019 - mean_squared_error: 0.0019 - val_loss: 0.0169 - val_mean_squared_error: 0.0169\n",
            "Epoch 21/100\n",
            "5/5 [==============================] - ETA: 0s - loss: 0.0015 - mean_squared_error: 0.0015\n",
            "Epoch 00021: val_loss did not improve from 0.01691\n",
            "5/5 [==============================] - 0s 63ms/step - loss: 0.0015 - mean_squared_error: 0.0015 - val_loss: 0.0170 - val_mean_squared_error: 0.0170\n",
            "Epoch 22/100\n",
            "5/5 [==============================] - ETA: 0s - loss: 0.0011 - mean_squared_error: 0.0011\n",
            "Epoch 00022: val_loss did not improve from 0.01691\n",
            "5/5 [==============================] - 0s 63ms/step - loss: 0.0011 - mean_squared_error: 0.0011 - val_loss: 0.0178 - val_mean_squared_error: 0.0178\n",
            "Epoch 23/100\n",
            "5/5 [==============================] - ETA: 0s - loss: 0.0010 - mean_squared_error: 0.0010\n",
            "Epoch 00023: val_loss did not improve from 0.01691\n",
            "5/5 [==============================] - 0s 62ms/step - loss: 0.0010 - mean_squared_error: 0.0010 - val_loss: 0.0173 - val_mean_squared_error: 0.0173\n",
            "Epoch 24/100\n",
            "5/5 [==============================] - ETA: 0s - loss: 8.4433e-04 - mean_squared_error: 8.4433e-04\n",
            "Epoch 00024: val_loss did not improve from 0.01691\n",
            "5/5 [==============================] - 0s 65ms/step - loss: 8.4433e-04 - mean_squared_error: 8.4433e-04 - val_loss: 0.0182 - val_mean_squared_error: 0.0182\n",
            "Epoch 25/100\n",
            "5/5 [==============================] - ETA: 0s - loss: 8.9795e-04 - mean_squared_error: 8.9795e-04\n",
            "Epoch 00025: val_loss did not improve from 0.01691\n",
            "5/5 [==============================] - 0s 64ms/step - loss: 8.9795e-04 - mean_squared_error: 8.9795e-04 - val_loss: 0.0176 - val_mean_squared_error: 0.0176\n",
            "Epoch 26/100\n",
            "5/5 [==============================] - ETA: 0s - loss: 8.5936e-04 - mean_squared_error: 8.5936e-04\n",
            "Epoch 00026: val_loss did not improve from 0.01691\n",
            "5/5 [==============================] - 0s 64ms/step - loss: 8.5936e-04 - mean_squared_error: 8.5936e-04 - val_loss: 0.0181 - val_mean_squared_error: 0.0181\n",
            "Epoch 27/100\n",
            "5/5 [==============================] - ETA: 0s - loss: 9.4402e-04 - mean_squared_error: 9.4402e-04\n",
            "Epoch 00027: val_loss did not improve from 0.01691\n",
            "5/5 [==============================] - 0s 63ms/step - loss: 9.4402e-04 - mean_squared_error: 9.4402e-04 - val_loss: 0.0176 - val_mean_squared_error: 0.0176\n",
            "Epoch 28/100\n",
            "5/5 [==============================] - ETA: 0s - loss: 8.0676e-04 - mean_squared_error: 8.0676e-04\n",
            "Epoch 00028: val_loss did not improve from 0.01691\n",
            "5/5 [==============================] - 0s 62ms/step - loss: 8.0676e-04 - mean_squared_error: 8.0676e-04 - val_loss: 0.0180 - val_mean_squared_error: 0.0180\n",
            "Epoch 29/100\n",
            "5/5 [==============================] - ETA: 0s - loss: 9.3416e-04 - mean_squared_error: 9.3416e-04\n",
            "Epoch 00029: val_loss did not improve from 0.01691\n",
            "5/5 [==============================] - 0s 63ms/step - loss: 9.3416e-04 - mean_squared_error: 9.3416e-04 - val_loss: 0.0177 - val_mean_squared_error: 0.0177\n",
            "Epoch 30/100\n",
            "5/5 [==============================] - ETA: 0s - loss: 8.4411e-04 - mean_squared_error: 8.4411e-04\n",
            "Epoch 00030: val_loss did not improve from 0.01691\n",
            "\n",
            "Epoch 00030: ReduceLROnPlateau reducing learning rate to 7.999999797903001e-05.\n",
            "5/5 [==============================] - 0s 64ms/step - loss: 8.4411e-04 - mean_squared_error: 8.4411e-04 - val_loss: 0.0181 - val_mean_squared_error: 0.0181\n",
            "Epoch 31/100\n",
            "5/5 [==============================] - ETA: 0s - loss: 8.8923e-04 - mean_squared_error: 8.8923e-04\n",
            "Epoch 00031: val_loss did not improve from 0.01691\n",
            "5/5 [==============================] - 0s 64ms/step - loss: 8.8923e-04 - mean_squared_error: 8.8923e-04 - val_loss: 0.0182 - val_mean_squared_error: 0.0182\n",
            "Epoch 32/100\n",
            "5/5 [==============================] - ETA: 0s - loss: 8.7614e-04 - mean_squared_error: 8.7614e-04\n",
            "Epoch 00032: val_loss did not improve from 0.01691\n",
            "5/5 [==============================] - 0s 66ms/step - loss: 8.7614e-04 - mean_squared_error: 8.7614e-04 - val_loss: 0.0177 - val_mean_squared_error: 0.0177\n",
            "Epoch 33/100\n",
            "5/5 [==============================] - ETA: 0s - loss: 8.6837e-04 - mean_squared_error: 8.6837e-04\n",
            "Epoch 00033: val_loss did not improve from 0.01691\n",
            "5/5 [==============================] - 0s 62ms/step - loss: 8.6837e-04 - mean_squared_error: 8.6837e-04 - val_loss: 0.0181 - val_mean_squared_error: 0.0181\n",
            "Epoch 34/100\n",
            "5/5 [==============================] - ETA: 0s - loss: 7.6221e-04 - mean_squared_error: 7.6221e-04\n",
            "Epoch 00034: val_loss did not improve from 0.01691\n",
            "5/5 [==============================] - 0s 64ms/step - loss: 7.6221e-04 - mean_squared_error: 7.6221e-04 - val_loss: 0.0184 - val_mean_squared_error: 0.0184\n",
            "Epoch 35/100\n",
            "5/5 [==============================] - ETA: 0s - loss: 8.1745e-04 - mean_squared_error: 8.1745e-04\n",
            "Epoch 00035: val_loss did not improve from 0.01691\n",
            "5/5 [==============================] - 0s 66ms/step - loss: 8.1745e-04 - mean_squared_error: 8.1745e-04 - val_loss: 0.0177 - val_mean_squared_error: 0.0177\n",
            "Epoch 36/100\n",
            "5/5 [==============================] - ETA: 0s - loss: 7.7964e-04 - mean_squared_error: 7.7964e-04\n",
            "Epoch 00036: val_loss did not improve from 0.01691\n",
            "5/5 [==============================] - 0s 63ms/step - loss: 7.7964e-04 - mean_squared_error: 7.7964e-04 - val_loss: 0.0181 - val_mean_squared_error: 0.0181\n",
            "Epoch 37/100\n",
            "5/5 [==============================] - ETA: 0s - loss: 8.2229e-04 - mean_squared_error: 8.2229e-04\n",
            "Epoch 00037: val_loss did not improve from 0.01691\n",
            "5/5 [==============================] - 0s 64ms/step - loss: 8.2229e-04 - mean_squared_error: 8.2229e-04 - val_loss: 0.0180 - val_mean_squared_error: 0.0180\n",
            "Epoch 38/100\n",
            "5/5 [==============================] - ETA: 0s - loss: 8.7610e-04 - mean_squared_error: 8.7610e-04\n",
            "Epoch 00038: val_loss did not improve from 0.01691\n",
            "5/5 [==============================] - 0s 63ms/step - loss: 8.7610e-04 - mean_squared_error: 8.7610e-04 - val_loss: 0.0178 - val_mean_squared_error: 0.0178\n",
            "Epoch 39/100\n",
            "5/5 [==============================] - ETA: 0s - loss: 7.4048e-04 - mean_squared_error: 7.4048e-04\n",
            "Epoch 00039: val_loss did not improve from 0.01691\n",
            "5/5 [==============================] - 0s 65ms/step - loss: 7.4048e-04 - mean_squared_error: 7.4048e-04 - val_loss: 0.0178 - val_mean_squared_error: 0.0178\n",
            "Epoch 40/100\n",
            "5/5 [==============================] - ETA: 0s - loss: 7.9856e-04 - mean_squared_error: 7.9856e-04\n",
            "Epoch 00040: val_loss did not improve from 0.01691\n",
            "\n",
            "Epoch 00040: ReduceLROnPlateau reducing learning rate to 6.399999838322402e-05.\n",
            "5/5 [==============================] - 0s 65ms/step - loss: 7.9856e-04 - mean_squared_error: 7.9856e-04 - val_loss: 0.0177 - val_mean_squared_error: 0.0177\n",
            "Epoch 41/100\n",
            "5/5 [==============================] - ETA: 0s - loss: 7.6704e-04 - mean_squared_error: 7.6704e-04\n",
            "Epoch 00041: val_loss did not improve from 0.01691\n",
            "5/5 [==============================] - 0s 64ms/step - loss: 7.6704e-04 - mean_squared_error: 7.6704e-04 - val_loss: 0.0177 - val_mean_squared_error: 0.0177\n",
            "Epoch 42/100\n",
            "5/5 [==============================] - ETA: 0s - loss: 7.4380e-04 - mean_squared_error: 7.4380e-04\n",
            "Epoch 00042: val_loss did not improve from 0.01691\n",
            "5/5 [==============================] - 0s 66ms/step - loss: 7.4380e-04 - mean_squared_error: 7.4380e-04 - val_loss: 0.0177 - val_mean_squared_error: 0.0177\n",
            "Epoch 43/100\n",
            "5/5 [==============================] - ETA: 0s - loss: 7.9575e-04 - mean_squared_error: 7.9575e-04\n",
            "Epoch 00043: val_loss did not improve from 0.01691\n",
            "5/5 [==============================] - 0s 64ms/step - loss: 7.9575e-04 - mean_squared_error: 7.9575e-04 - val_loss: 0.0178 - val_mean_squared_error: 0.0178\n",
            "Epoch 44/100\n",
            "5/5 [==============================] - ETA: 0s - loss: 7.2696e-04 - mean_squared_error: 7.2696e-04\n",
            "Epoch 00044: val_loss did not improve from 0.01691\n",
            "5/5 [==============================] - 0s 65ms/step - loss: 7.2696e-04 - mean_squared_error: 7.2696e-04 - val_loss: 0.0182 - val_mean_squared_error: 0.0182\n",
            "Epoch 45/100\n",
            "5/5 [==============================] - ETA: 0s - loss: 7.0848e-04 - mean_squared_error: 7.0848e-04\n",
            "Epoch 00045: val_loss did not improve from 0.01691\n",
            "5/5 [==============================] - 0s 64ms/step - loss: 7.0848e-04 - mean_squared_error: 7.0848e-04 - val_loss: 0.0177 - val_mean_squared_error: 0.0177\n",
            "Epoch 46/100\n",
            "5/5 [==============================] - ETA: 0s - loss: 7.3406e-04 - mean_squared_error: 7.3406e-04\n",
            "Epoch 00046: val_loss did not improve from 0.01691\n",
            "5/5 [==============================] - 0s 66ms/step - loss: 7.3406e-04 - mean_squared_error: 7.3406e-04 - val_loss: 0.0180 - val_mean_squared_error: 0.0180\n",
            "Epoch 47/100\n",
            "5/5 [==============================] - ETA: 0s - loss: 7.8500e-04 - mean_squared_error: 7.8500e-04\n",
            "Epoch 00047: val_loss did not improve from 0.01691\n",
            "5/5 [==============================] - 0s 62ms/step - loss: 7.8500e-04 - mean_squared_error: 7.8500e-04 - val_loss: 0.0177 - val_mean_squared_error: 0.0177\n",
            "Epoch 48/100\n",
            "5/5 [==============================] - ETA: 0s - loss: 7.5895e-04 - mean_squared_error: 7.5895e-04\n",
            "Epoch 00048: val_loss did not improve from 0.01691\n",
            "5/5 [==============================] - 0s 64ms/step - loss: 7.5895e-04 - mean_squared_error: 7.5895e-04 - val_loss: 0.0180 - val_mean_squared_error: 0.0180\n",
            "Epoch 49/100\n",
            "5/5 [==============================] - ETA: 0s - loss: 6.9364e-04 - mean_squared_error: 6.9364e-04\n",
            "Epoch 00049: val_loss did not improve from 0.01691\n",
            "5/5 [==============================] - 0s 63ms/step - loss: 6.9364e-04 - mean_squared_error: 6.9364e-04 - val_loss: 0.0177 - val_mean_squared_error: 0.0177\n",
            "Epoch 50/100\n",
            "5/5 [==============================] - ETA: 0s - loss: 7.6125e-04 - mean_squared_error: 7.6125e-04\n",
            "Epoch 00050: val_loss did not improve from 0.01691\n",
            "\n",
            "Epoch 00050: ReduceLROnPlateau reducing learning rate to 5.119999987073243e-05.\n",
            "5/5 [==============================] - 0s 63ms/step - loss: 7.6125e-04 - mean_squared_error: 7.6125e-04 - val_loss: 0.0178 - val_mean_squared_error: 0.0178\n",
            "Epoch 51/100\n",
            "5/5 [==============================] - ETA: 0s - loss: 7.9558e-04 - mean_squared_error: 7.9558e-04\n",
            "Epoch 00051: val_loss did not improve from 0.01691\n",
            "5/5 [==============================] - 0s 64ms/step - loss: 7.9558e-04 - mean_squared_error: 7.9558e-04 - val_loss: 0.0180 - val_mean_squared_error: 0.0180\n",
            "Epoch 52/100\n",
            "5/5 [==============================] - ETA: 0s - loss: 7.0588e-04 - mean_squared_error: 7.0588e-04\n",
            "Epoch 00052: val_loss did not improve from 0.01691\n",
            "5/5 [==============================] - 0s 64ms/step - loss: 7.0588e-04 - mean_squared_error: 7.0588e-04 - val_loss: 0.0180 - val_mean_squared_error: 0.0180\n",
            "Epoch 53/100\n",
            "5/5 [==============================] - ETA: 0s - loss: 7.8927e-04 - mean_squared_error: 7.8927e-04\n",
            "Epoch 00053: val_loss did not improve from 0.01691\n",
            "5/5 [==============================] - 0s 63ms/step - loss: 7.8927e-04 - mean_squared_error: 7.8927e-04 - val_loss: 0.0179 - val_mean_squared_error: 0.0179\n",
            "Epoch 54/100\n",
            "5/5 [==============================] - ETA: 0s - loss: 7.6967e-04 - mean_squared_error: 7.6967e-04\n",
            "Epoch 00054: val_loss did not improve from 0.01691\n",
            "5/5 [==============================] - 0s 62ms/step - loss: 7.6967e-04 - mean_squared_error: 7.6967e-04 - val_loss: 0.0179 - val_mean_squared_error: 0.0179\n",
            "Epoch 55/100\n",
            "5/5 [==============================] - ETA: 0s - loss: 7.0413e-04 - mean_squared_error: 7.0413e-04\n",
            "Epoch 00055: val_loss did not improve from 0.01691\n",
            "5/5 [==============================] - 0s 66ms/step - loss: 7.0413e-04 - mean_squared_error: 7.0413e-04 - val_loss: 0.0181 - val_mean_squared_error: 0.0181\n",
            "Epoch 56/100\n",
            "5/5 [==============================] - ETA: 0s - loss: 7.2665e-04 - mean_squared_error: 7.2665e-04\n",
            "Epoch 00056: val_loss did not improve from 0.01691\n",
            "5/5 [==============================] - 0s 62ms/step - loss: 7.2665e-04 - mean_squared_error: 7.2665e-04 - val_loss: 0.0178 - val_mean_squared_error: 0.0178\n",
            "Epoch 57/100\n",
            "5/5 [==============================] - ETA: 0s - loss: 7.2829e-04 - mean_squared_error: 7.2829e-04\n",
            "Epoch 00057: val_loss did not improve from 0.01691\n",
            "5/5 [==============================] - 0s 62ms/step - loss: 7.2829e-04 - mean_squared_error: 7.2829e-04 - val_loss: 0.0176 - val_mean_squared_error: 0.0176\n",
            "Epoch 58/100\n",
            "5/5 [==============================] - ETA: 0s - loss: 7.4950e-04 - mean_squared_error: 7.4950e-04\n",
            "Epoch 00058: val_loss did not improve from 0.01691\n",
            "5/5 [==============================] - 0s 66ms/step - loss: 7.4950e-04 - mean_squared_error: 7.4950e-04 - val_loss: 0.0176 - val_mean_squared_error: 0.0176\n",
            "Epoch 59/100\n",
            "5/5 [==============================] - ETA: 0s - loss: 6.7537e-04 - mean_squared_error: 6.7537e-04\n",
            "Epoch 00059: val_loss did not improve from 0.01691\n",
            "5/5 [==============================] - 0s 63ms/step - loss: 6.7537e-04 - mean_squared_error: 6.7537e-04 - val_loss: 0.0177 - val_mean_squared_error: 0.0177\n",
            "Epoch 60/100\n",
            "5/5 [==============================] - ETA: 0s - loss: 7.0293e-04 - mean_squared_error: 7.0293e-04\n",
            "Epoch 00060: val_loss did not improve from 0.01691\n",
            "\n",
            "Epoch 00060: ReduceLROnPlateau reducing learning rate to 4.0960000478662555e-05.\n",
            "5/5 [==============================] - 0s 63ms/step - loss: 7.0293e-04 - mean_squared_error: 7.0293e-04 - val_loss: 0.0176 - val_mean_squared_error: 0.0176\n",
            "Epoch 61/100\n",
            "5/5 [==============================] - ETA: 0s - loss: 7.2515e-04 - mean_squared_error: 7.2515e-04\n",
            "Epoch 00061: val_loss did not improve from 0.01691\n",
            "5/5 [==============================] - 0s 62ms/step - loss: 7.2515e-04 - mean_squared_error: 7.2515e-04 - val_loss: 0.0176 - val_mean_squared_error: 0.0176\n",
            "Epoch 62/100\n",
            "5/5 [==============================] - ETA: 0s - loss: 6.7469e-04 - mean_squared_error: 6.7469e-04\n",
            "Epoch 00062: val_loss did not improve from 0.01691\n",
            "5/5 [==============================] - 0s 64ms/step - loss: 6.7469e-04 - mean_squared_error: 6.7469e-04 - val_loss: 0.0176 - val_mean_squared_error: 0.0176\n",
            "Epoch 63/100\n",
            "5/5 [==============================] - ETA: 0s - loss: 6.7408e-04 - mean_squared_error: 6.7408e-04\n",
            "Epoch 00063: val_loss did not improve from 0.01691\n",
            "5/5 [==============================] - 0s 64ms/step - loss: 6.7408e-04 - mean_squared_error: 6.7408e-04 - val_loss: 0.0178 - val_mean_squared_error: 0.0178\n",
            "Epoch 64/100\n",
            "5/5 [==============================] - ETA: 0s - loss: 6.8226e-04 - mean_squared_error: 6.8226e-04\n",
            "Epoch 00064: val_loss did not improve from 0.01691\n",
            "5/5 [==============================] - 0s 66ms/step - loss: 6.8226e-04 - mean_squared_error: 6.8226e-04 - val_loss: 0.0176 - val_mean_squared_error: 0.0176\n",
            "Epoch 65/100\n",
            "5/5 [==============================] - ETA: 0s - loss: 6.8716e-04 - mean_squared_error: 6.8716e-04\n",
            "Epoch 00065: val_loss did not improve from 0.01691\n",
            "5/5 [==============================] - 0s 64ms/step - loss: 6.8716e-04 - mean_squared_error: 6.8716e-04 - val_loss: 0.0176 - val_mean_squared_error: 0.0176\n",
            "Epoch 66/100\n",
            "5/5 [==============================] - ETA: 0s - loss: 7.3388e-04 - mean_squared_error: 7.3388e-04\n",
            "Epoch 00066: val_loss did not improve from 0.01691\n",
            "5/5 [==============================] - 0s 61ms/step - loss: 7.3388e-04 - mean_squared_error: 7.3388e-04 - val_loss: 0.0179 - val_mean_squared_error: 0.0179\n",
            "Epoch 67/100\n",
            "5/5 [==============================] - ETA: 0s - loss: 7.3602e-04 - mean_squared_error: 7.3602e-04\n",
            "Epoch 00067: val_loss did not improve from 0.01691\n",
            "5/5 [==============================] - 0s 65ms/step - loss: 7.3602e-04 - mean_squared_error: 7.3602e-04 - val_loss: 0.0178 - val_mean_squared_error: 0.0178\n",
            "Epoch 68/100\n",
            "5/5 [==============================] - ETA: 0s - loss: 7.0174e-04 - mean_squared_error: 7.0174e-04\n",
            "Epoch 00068: val_loss did not improve from 0.01691\n",
            "5/5 [==============================] - 0s 64ms/step - loss: 7.0174e-04 - mean_squared_error: 7.0174e-04 - val_loss: 0.0176 - val_mean_squared_error: 0.0176\n",
            "Epoch 69/100\n",
            "5/5 [==============================] - ETA: 0s - loss: 6.8971e-04 - mean_squared_error: 6.8971e-04\n",
            "Epoch 00069: val_loss did not improve from 0.01691\n",
            "5/5 [==============================] - 0s 64ms/step - loss: 6.8971e-04 - mean_squared_error: 6.8971e-04 - val_loss: 0.0177 - val_mean_squared_error: 0.0177\n",
            "Epoch 70/100\n",
            "5/5 [==============================] - ETA: 0s - loss: 7.3335e-04 - mean_squared_error: 7.3335e-04\n",
            "Epoch 00070: val_loss did not improve from 0.01691\n",
            "\n",
            "Epoch 00070: ReduceLROnPlateau reducing learning rate to 3.2767999800853435e-05.\n",
            "5/5 [==============================] - 0s 62ms/step - loss: 7.3335e-04 - mean_squared_error: 7.3335e-04 - val_loss: 0.0176 - val_mean_squared_error: 0.0176\n",
            "Epoch 71/100\n",
            "5/5 [==============================] - ETA: 0s - loss: 6.7449e-04 - mean_squared_error: 6.7449e-04\n",
            "Epoch 00071: val_loss did not improve from 0.01691\n",
            "5/5 [==============================] - 0s 64ms/step - loss: 6.7449e-04 - mean_squared_error: 6.7449e-04 - val_loss: 0.0177 - val_mean_squared_error: 0.0177\n",
            "Epoch 72/100\n",
            "5/5 [==============================] - ETA: 0s - loss: 6.7597e-04 - mean_squared_error: 6.7597e-04\n",
            "Epoch 00072: val_loss did not improve from 0.01691\n",
            "5/5 [==============================] - 0s 62ms/step - loss: 6.7597e-04 - mean_squared_error: 6.7597e-04 - val_loss: 0.0178 - val_mean_squared_error: 0.0178\n",
            "Epoch 73/100\n",
            "5/5 [==============================] - ETA: 0s - loss: 6.6302e-04 - mean_squared_error: 6.6302e-04\n",
            "Epoch 00073: val_loss did not improve from 0.01691\n",
            "5/5 [==============================] - 0s 65ms/step - loss: 6.6302e-04 - mean_squared_error: 6.6302e-04 - val_loss: 0.0176 - val_mean_squared_error: 0.0176\n",
            "Epoch 74/100\n",
            "5/5 [==============================] - ETA: 0s - loss: 6.6783e-04 - mean_squared_error: 6.6783e-04\n",
            "Epoch 00074: val_loss did not improve from 0.01691\n",
            "5/5 [==============================] - 0s 64ms/step - loss: 6.6783e-04 - mean_squared_error: 6.6783e-04 - val_loss: 0.0178 - val_mean_squared_error: 0.0178\n",
            "Epoch 75/100\n",
            "5/5 [==============================] - ETA: 0s - loss: 7.3963e-04 - mean_squared_error: 7.3963e-04\n",
            "Epoch 00075: val_loss did not improve from 0.01691\n",
            "5/5 [==============================] - 0s 65ms/step - loss: 7.3963e-04 - mean_squared_error: 7.3963e-04 - val_loss: 0.0177 - val_mean_squared_error: 0.0177\n",
            "Epoch 76/100\n",
            "5/5 [==============================] - ETA: 0s - loss: 6.9739e-04 - mean_squared_error: 6.9739e-04\n",
            "Epoch 00076: val_loss did not improve from 0.01691\n",
            "5/5 [==============================] - 0s 67ms/step - loss: 6.9739e-04 - mean_squared_error: 6.9739e-04 - val_loss: 0.0177 - val_mean_squared_error: 0.0177\n",
            "Epoch 77/100\n",
            "5/5 [==============================] - ETA: 0s - loss: 6.3721e-04 - mean_squared_error: 6.3721e-04\n",
            "Epoch 00077: val_loss did not improve from 0.01691\n",
            "5/5 [==============================] - 0s 66ms/step - loss: 6.3721e-04 - mean_squared_error: 6.3721e-04 - val_loss: 0.0178 - val_mean_squared_error: 0.0178\n",
            "Epoch 78/100\n",
            "5/5 [==============================] - ETA: 0s - loss: 6.7530e-04 - mean_squared_error: 6.7530e-04\n",
            "Epoch 00078: val_loss did not improve from 0.01691\n",
            "5/5 [==============================] - 0s 65ms/step - loss: 6.7530e-04 - mean_squared_error: 6.7530e-04 - val_loss: 0.0177 - val_mean_squared_error: 0.0177\n",
            "Epoch 79/100\n",
            "5/5 [==============================] - ETA: 0s - loss: 6.7845e-04 - mean_squared_error: 6.7845e-04\n",
            "Epoch 00079: val_loss did not improve from 0.01691\n",
            "5/5 [==============================] - 0s 65ms/step - loss: 6.7845e-04 - mean_squared_error: 6.7845e-04 - val_loss: 0.0177 - val_mean_squared_error: 0.0177\n",
            "Epoch 80/100\n",
            "5/5 [==============================] - ETA: 0s - loss: 6.7197e-04 - mean_squared_error: 6.7197e-04\n",
            "Epoch 00080: val_loss did not improve from 0.01691\n",
            "\n",
            "Epoch 00080: ReduceLROnPlateau reducing learning rate to 2.6214399258606137e-05.\n",
            "5/5 [==============================] - 0s 65ms/step - loss: 6.7197e-04 - mean_squared_error: 6.7197e-04 - val_loss: 0.0176 - val_mean_squared_error: 0.0176\n",
            "Epoch 81/100\n",
            "5/5 [==============================] - ETA: 0s - loss: 6.8450e-04 - mean_squared_error: 6.8450e-04\n",
            "Epoch 00081: val_loss did not improve from 0.01691\n",
            "5/5 [==============================] - 0s 68ms/step - loss: 6.8450e-04 - mean_squared_error: 6.8450e-04 - val_loss: 0.0176 - val_mean_squared_error: 0.0176\n",
            "Epoch 82/100\n",
            "5/5 [==============================] - ETA: 0s - loss: 7.0318e-04 - mean_squared_error: 7.0318e-04\n",
            "Epoch 00082: val_loss did not improve from 0.01691\n",
            "5/5 [==============================] - 0s 63ms/step - loss: 7.0318e-04 - mean_squared_error: 7.0318e-04 - val_loss: 0.0177 - val_mean_squared_error: 0.0177\n",
            "Epoch 83/100\n",
            "5/5 [==============================] - ETA: 0s - loss: 6.6738e-04 - mean_squared_error: 6.6738e-04\n",
            "Epoch 00083: val_loss did not improve from 0.01691\n",
            "5/5 [==============================] - 0s 66ms/step - loss: 6.6738e-04 - mean_squared_error: 6.6738e-04 - val_loss: 0.0177 - val_mean_squared_error: 0.0177\n",
            "Epoch 84/100\n",
            "5/5 [==============================] - ETA: 0s - loss: 6.5775e-04 - mean_squared_error: 6.5775e-04\n",
            "Epoch 00084: val_loss did not improve from 0.01691\n",
            "5/5 [==============================] - 0s 64ms/step - loss: 6.5775e-04 - mean_squared_error: 6.5775e-04 - val_loss: 0.0178 - val_mean_squared_error: 0.0178\n",
            "Epoch 85/100\n",
            "5/5 [==============================] - ETA: 0s - loss: 6.6965e-04 - mean_squared_error: 6.6965e-04\n",
            "Epoch 00085: val_loss did not improve from 0.01691\n",
            "5/5 [==============================] - 0s 64ms/step - loss: 6.6965e-04 - mean_squared_error: 6.6965e-04 - val_loss: 0.0177 - val_mean_squared_error: 0.0177\n",
            "Epoch 86/100\n",
            "5/5 [==============================] - ETA: 0s - loss: 6.9321e-04 - mean_squared_error: 6.9321e-04\n",
            "Epoch 00086: val_loss did not improve from 0.01691\n",
            "5/5 [==============================] - 0s 66ms/step - loss: 6.9321e-04 - mean_squared_error: 6.9321e-04 - val_loss: 0.0178 - val_mean_squared_error: 0.0178\n",
            "Epoch 87/100\n",
            "5/5 [==============================] - ETA: 0s - loss: 6.6831e-04 - mean_squared_error: 6.6831e-04\n",
            "Epoch 00087: val_loss did not improve from 0.01691\n",
            "5/5 [==============================] - 0s 66ms/step - loss: 6.6831e-04 - mean_squared_error: 6.6831e-04 - val_loss: 0.0177 - val_mean_squared_error: 0.0177\n",
            "Epoch 88/100\n",
            "5/5 [==============================] - ETA: 0s - loss: 6.8073e-04 - mean_squared_error: 6.8073e-04\n",
            "Epoch 00088: val_loss did not improve from 0.01691\n",
            "5/5 [==============================] - 0s 66ms/step - loss: 6.8073e-04 - mean_squared_error: 6.8073e-04 - val_loss: 0.0177 - val_mean_squared_error: 0.0177\n",
            "Epoch 89/100\n",
            "5/5 [==============================] - ETA: 0s - loss: 6.2978e-04 - mean_squared_error: 6.2978e-04\n",
            "Epoch 00089: val_loss did not improve from 0.01691\n",
            "5/5 [==============================] - 0s 67ms/step - loss: 6.2978e-04 - mean_squared_error: 6.2978e-04 - val_loss: 0.0177 - val_mean_squared_error: 0.0177\n",
            "Epoch 90/100\n",
            "5/5 [==============================] - ETA: 0s - loss: 6.5279e-04 - mean_squared_error: 6.5279e-04\n",
            "Epoch 00090: val_loss did not improve from 0.01691\n",
            "\n",
            "Epoch 00090: ReduceLROnPlateau reducing learning rate to 2.09715188248083e-05.\n",
            "5/5 [==============================] - 0s 65ms/step - loss: 6.5279e-04 - mean_squared_error: 6.5279e-04 - val_loss: 0.0177 - val_mean_squared_error: 0.0177\n",
            "Epoch 91/100\n",
            "5/5 [==============================] - ETA: 0s - loss: 6.5554e-04 - mean_squared_error: 6.5554e-04\n",
            "Epoch 00091: val_loss did not improve from 0.01691\n",
            "5/5 [==============================] - 0s 66ms/step - loss: 6.5554e-04 - mean_squared_error: 6.5554e-04 - val_loss: 0.0177 - val_mean_squared_error: 0.0177\n",
            "Epoch 92/100\n",
            "5/5 [==============================] - ETA: 0s - loss: 6.7807e-04 - mean_squared_error: 6.7807e-04\n",
            "Epoch 00092: val_loss did not improve from 0.01691\n",
            "5/5 [==============================] - 0s 65ms/step - loss: 6.7807e-04 - mean_squared_error: 6.7807e-04 - val_loss: 0.0177 - val_mean_squared_error: 0.0177\n",
            "Epoch 93/100\n",
            "5/5 [==============================] - ETA: 0s - loss: 6.6871e-04 - mean_squared_error: 6.6871e-04\n",
            "Epoch 00093: val_loss did not improve from 0.01691\n",
            "5/5 [==============================] - 0s 66ms/step - loss: 6.6871e-04 - mean_squared_error: 6.6871e-04 - val_loss: 0.0176 - val_mean_squared_error: 0.0176\n",
            "Epoch 94/100\n",
            "5/5 [==============================] - ETA: 0s - loss: 7.4275e-04 - mean_squared_error: 7.4275e-04\n",
            "Epoch 00094: val_loss did not improve from 0.01691\n",
            "5/5 [==============================] - 0s 65ms/step - loss: 7.4275e-04 - mean_squared_error: 7.4275e-04 - val_loss: 0.0177 - val_mean_squared_error: 0.0177\n",
            "Epoch 95/100\n",
            "5/5 [==============================] - ETA: 0s - loss: 6.1247e-04 - mean_squared_error: 6.1247e-04\n",
            "Epoch 00095: val_loss did not improve from 0.01691\n",
            "5/5 [==============================] - 0s 62ms/step - loss: 6.1247e-04 - mean_squared_error: 6.1247e-04 - val_loss: 0.0177 - val_mean_squared_error: 0.0177\n",
            "Epoch 96/100\n",
            "5/5 [==============================] - ETA: 0s - loss: 6.4118e-04 - mean_squared_error: 6.4118e-04\n",
            "Epoch 00096: val_loss did not improve from 0.01691\n",
            "5/5 [==============================] - 0s 65ms/step - loss: 6.4118e-04 - mean_squared_error: 6.4118e-04 - val_loss: 0.0177 - val_mean_squared_error: 0.0177\n",
            "Epoch 97/100\n",
            "5/5 [==============================] - ETA: 0s - loss: 6.5994e-04 - mean_squared_error: 6.5994e-04\n",
            "Epoch 00097: val_loss did not improve from 0.01691\n",
            "5/5 [==============================] - 0s 68ms/step - loss: 6.5994e-04 - mean_squared_error: 6.5994e-04 - val_loss: 0.0178 - val_mean_squared_error: 0.0178\n",
            "Epoch 98/100\n",
            "5/5 [==============================] - ETA: 0s - loss: 6.2409e-04 - mean_squared_error: 6.2409e-04\n",
            "Epoch 00098: val_loss did not improve from 0.01691\n",
            "5/5 [==============================] - 0s 65ms/step - loss: 6.2409e-04 - mean_squared_error: 6.2409e-04 - val_loss: 0.0177 - val_mean_squared_error: 0.0177\n",
            "Epoch 99/100\n",
            "5/5 [==============================] - ETA: 0s - loss: 6.5374e-04 - mean_squared_error: 6.5374e-04\n",
            "Epoch 00099: val_loss did not improve from 0.01691\n",
            "5/5 [==============================] - 0s 64ms/step - loss: 6.5374e-04 - mean_squared_error: 6.5374e-04 - val_loss: 0.0177 - val_mean_squared_error: 0.0177\n",
            "Epoch 100/100\n",
            "5/5 [==============================] - ETA: 0s - loss: 6.0933e-04 - mean_squared_error: 6.0933e-04\n",
            "Epoch 00100: val_loss did not improve from 0.01691\n",
            "\n",
            "Epoch 00100: ReduceLROnPlateau reducing learning rate to 1.6777214477770033e-05.\n",
            "5/5 [==============================] - 0s 65ms/step - loss: 6.0933e-04 - mean_squared_error: 6.0933e-04 - val_loss: 0.0177 - val_mean_squared_error: 0.0177\n"
          ],
          "name": "stdout"
        }
      ]
    },
    {
      "cell_type": "code",
      "metadata": {
        "id": "RESgOhBZDGs2"
      },
      "source": [
        "# Load best model\n",
        "model = load_model(filepath)"
      ],
      "execution_count": 50,
      "outputs": []
    },
    {
      "cell_type": "code",
      "metadata": {
        "colab": {
          "base_uri": "https://localhost:8080/",
          "height": 295
        },
        "id": "KNjbEMheDI-w",
        "outputId": "2d01b07a-5ea2-42a7-e38f-65b69cf210e5"
      },
      "source": [
        "# Plot loss vs epoch\n",
        "plt.plot(history.history['loss'], color='b', label='train')\n",
        "plt.plot(history.history['val_loss'], color='r', label='test')\n",
        "plt.title('Loss vs. Epoch')\n",
        "plt.ylabel('loss')\n",
        "plt.xlabel('epoch')\n",
        "plt.legend(loc='upper right')\n",
        "plt.show()"
      ],
      "execution_count": 51,
      "outputs": [
        {
          "output_type": "display_data",
          "data": {
            "image/png": "[encoded data removed]",
            "text/plain": [
              "<Figure size 432x288 with 1 Axes>"
            ]
          },
          "metadata": {
            "tags": [],
            "needs_background": "light"
          }
        }
      ]
    },
    {
      "cell_type": "code",
      "metadata": {
        "colab": {
          "base_uri": "https://localhost:8080/"
        },
        "id": "QTwuyWN0DMVC",
        "outputId": "bda219bf-bad4-46d0-93c3-71701b108516"
      },
      "source": [
        "def model_score(model, X_train, y_train, X_test, y_test):\n",
        "    train_score = model.evaluate(X_train, y_train, verbose=0)\n",
        "    print('Train Score: %.5f MSE (%.2f RMSE)' % (train_score[0], math.sqrt(train_score[0])))\n",
        "    test_score = model.evaluate(X_test, y_test, verbose=0)\n",
        "    print('Test Score: %.5f MSE (%.2f RMSE)' % (test_score[0], math.sqrt(test_score[0])))\n",
        "\n",
        "model_score(model, X_train, y_train , X_test, y_test)"
      ],
      "execution_count": 52,
      "outputs": [
        {
          "output_type": "stream",
          "text": [
            "Train Score: 0.00102 MSE (0.03 RMSE)\n",
            "Test Score: 0.01691 MSE (0.13 RMSE)\n"
          ],
          "name": "stdout"
        }
      ]
    },
    {
      "cell_type": "code",
      "metadata": {
        "colab": {
          "base_uri": "https://localhost:8080/"
        },
        "id": "3UflOaBXDTnS",
        "outputId": "70f63ad8-f43e-49f7-8f4c-f4f5c092d22c"
      },
      "source": [
        "pred = model.predict(X_test)\n",
        "pred = scaler.inverse_transform(pred) + series_test_mean\n",
        "pred"
      ],
      "execution_count": 54,
      "outputs": [
        {
          "output_type": "execute_result",
          "data": {
            "text/plain": [
              "array([[1071.1475 ],\n",
              "       [1082.5378 ],\n",
              "       [1089.5759 ],\n",
              "       [1100.5164 ],\n",
              "       [1103.1676 ],\n",
              "       [1101.6417 ],\n",
              "       [1100.3147 ],\n",
              "       [1107.2013 ],\n",
              "       [1117.3499 ],\n",
              "       [1120.2294 ],\n",
              "       [1125.9196 ],\n",
              "       [1126.9817 ],\n",
              "       [1137.672  ],\n",
              "       [1153.9926 ],\n",
              "       [1161.3224 ],\n",
              "       [1159.6014 ],\n",
              "       [1165.4138 ],\n",
              "       [1168.9226 ],\n",
              "       [1164.8104 ],\n",
              "       [1159.1017 ],\n",
              "       [1162.4431 ],\n",
              "       [1142.8076 ],\n",
              "       [1090.9017 ],\n",
              "       [1065.2817 ],\n",
              "       [1070.363  ],\n",
              "       [1039.0051 ],\n",
              "       [1023.19745],\n",
              "       [1046.9354 ],\n",
              "       [1054.949  ],\n",
              "       [1060.0361 ],\n",
              "       [1075.9421 ],\n",
              "       [1089.215  ],\n",
              "       [1094.6761 ],\n",
              "       [1101.9955 ],\n",
              "       [1105.9607 ],\n",
              "       [1109.2745 ],\n",
              "       [1127.0693 ],\n",
              "       [1129.6727 ],\n",
              "       [1109.6277 ],\n",
              "       [1090.728  ],\n",
              "       [1072.7407 ],\n",
              "       [1081.7756 ],\n",
              "       [1090.1343 ],\n",
              "       [1097.0015 ],\n",
              "       [1110.8785 ],\n",
              "       [1131.7301 ],\n",
              "       [1154.947  ],\n",
              "       [1149.2505 ],\n",
              "       [1136.0707 ],\n",
              "       [1143.3097 ],\n",
              "       [1138.9159 ],\n",
              "       [1118.859  ],\n",
              "       [1096.2626 ],\n",
              "       [1092.9364 ],\n",
              "       [1076.4934 ],\n",
              "       [1044.8024 ],\n",
              "       [1038.2849 ],\n",
              "       [1042.5464 ],\n",
              "       [1016.33057],\n",
              "       [1023.23364],\n",
              "       [1031.1603 ],\n",
              "       [1019.3829 ],\n",
              "       [1026.2218 ],\n",
              "       [1033.3114 ],\n",
              "       [1029.153  ],\n",
              "       [1020.2248 ],\n",
              "       [1029.0718 ],\n",
              "       [1034.736  ],\n",
              "       [1031.7645 ],\n",
              "       [1037.7509 ],\n",
              "       [1038.3522 ],\n",
              "       [1053.2778 ],\n",
              "       [1073.4502 ],\n",
              "       [1076.8024 ],\n",
              "       [1081.6456 ],\n",
              "       [1071.4045 ],\n",
              "       [1054.663  ],\n",
              "       [1028.712  ],\n",
              "       [1034.4703 ],\n",
              "       [1042.1248 ],\n",
              "       [1033.1498 ],\n",
              "       [1031.6256 ],\n",
              "       [1039.0558 ],\n",
              "       [1031.7882 ],\n",
              "       [1038.0984 ],\n",
              "       [1053.5979 ],\n",
              "       [1057.0781 ],\n",
              "       [1064.8151 ],\n",
              "       [1086.0183 ],\n",
              "       [1095.0747 ],\n",
              "       [1096.0754 ],\n",
              "       [1090.9303 ],\n",
              "       [1079.2562 ],\n",
              "       [1079.8136 ],\n",
              "       [1074.3646 ],\n",
              "       [1071.0948 ],\n",
              "       [1075.9279 ],\n",
              "       [1073.0873 ],\n",
              "       [1078.7822 ],\n",
              "       [1077.4666 ],\n",
              "       [1070.9021 ],\n",
              "       [1064.202  ],\n",
              "       [1073.508  ],\n",
              "       [1093.9176 ],\n",
              "       [1121.1106 ],\n",
              "       [1133.6456 ],\n",
              "       [1132.9948 ],\n",
              "       [1127.1199 ],\n",
              "       [1118.064  ],\n",
              "       [1119.0543 ],\n",
              "       [1127.6787 ],\n",
              "       [1132.1156 ],\n",
              "       [1134.7676 ],\n",
              "       [1145.8596 ],\n",
              "       [1152.833  ],\n",
              "       [1164.8663 ],\n",
              "       [1161.92   ],\n",
              "       [1159.0732 ],\n",
              "       [1150.4673 ],\n",
              "       [1139.1685 ],\n",
              "       [1117.9016 ],\n",
              "       [1109.5009 ],\n",
              "       [1103.7985 ]], dtype=float32)"
            ]
          },
          "metadata": {
            "tags": []
          },
          "execution_count": 54
        }
      ]
    },
    {
      "cell_type": "code",
      "metadata": {
        "id": "3oIRqKJbCNU9"
      },
      "source": [
        "y_test = y_test[..., np.newaxis]\n",
        "y_test = scaler.inverse_transform(y_test) + series_test_mean"
      ],
      "execution_count": 55,
      "outputs": []
    },
    {
      "cell_type": "code",
      "metadata": {
        "colab": {
          "base_uri": "https://localhost:8080/",
          "height": 458
        },
        "id": "YtoowI7DQEZI",
        "outputId": "1a4bfc53-2c49-489a-ff7a-7c767dace767"
      },
      "source": [
        "plt.rcParams[\"figure.figsize\"] = (15,7)\n",
        "plt.plot(y_test, label='actual', color='b')\n",
        "plt.plot(pred, label='predicted', color='r')\n",
        "plt.xlabel('Time [days]')\n",
        "plt.ylabel('Stock Prices [$]')\n",
        "plt.title('New York Stock Exchange Prices: YHOO')\n",
        "plt.legend(loc='upper left')\n",
        "plt.grid(True)\n",
        "plt.show()"
      ],
      "execution_count": 56,
      "outputs": [
        {
          "output_type": "display_data",
          "data": {
            "image/png": "[encoded data removed]",
            "text/plain": [
              "<Figure size 1080x504 with 1 Axes>"
            ]
          },
          "metadata": {
            "tags": [],
            "needs_background": "light"
          }
        }
      ]
    }
  ]
}